{
 "cells": [
  {
   "cell_type": "markdown",
   "id": "narrow-madison",
   "metadata": {
    "papermill": {
     "duration": 0.059024,
     "end_time": "2021-05-21T17:59:12.025001",
     "exception": false,
     "start_time": "2021-05-21T17:59:11.965977",
     "status": "completed"
    },
    "tags": []
   },
   "source": [
    "### Base de dados census"
   ]
  },
  {
   "cell_type": "code",
   "execution_count": 1,
   "id": "lightweight-finder",
   "metadata": {
    "execution": {
     "iopub.execute_input": "2021-05-21T17:59:12.156536Z",
     "iopub.status.busy": "2021-05-21T17:59:12.155854Z",
     "iopub.status.idle": "2021-05-21T17:59:12.314502Z",
     "shell.execute_reply": "2021-05-21T17:59:12.315184Z",
     "shell.execute_reply.started": "2021-05-21T17:55:10.720303Z"
    },
    "papermill": {
     "duration": 0.229543,
     "end_time": "2021-05-21T17:59:12.315580",
     "exception": false,
     "start_time": "2021-05-21T17:59:12.086037",
     "status": "completed"
    },
    "tags": []
   },
   "outputs": [],
   "source": [
    "import pandas as pd\n",
    "\n",
    "df = pd.read_csv(\"../input/adult-census-income/adult.csv\")"
   ]
  },
  {
   "cell_type": "code",
   "execution_count": 2,
   "id": "coastal-carolina",
   "metadata": {
    "execution": {
     "iopub.execute_input": "2021-05-21T17:59:12.446816Z",
     "iopub.status.busy": "2021-05-21T17:59:12.446073Z",
     "iopub.status.idle": "2021-05-21T17:59:12.471213Z",
     "shell.execute_reply": "2021-05-21T17:59:12.471723Z",
     "shell.execute_reply.started": "2021-05-21T17:55:10.801356Z"
    },
    "papermill": {
     "duration": 0.096817,
     "end_time": "2021-05-21T17:59:12.471975",
     "exception": false,
     "start_time": "2021-05-21T17:59:12.375158",
     "status": "completed"
    },
    "scrolled": true,
    "tags": []
   },
   "outputs": [
    {
     "data": {
      "text/html": [
       "<div>\n",
       "<style scoped>\n",
       "    .dataframe tbody tr th:only-of-type {\n",
       "        vertical-align: middle;\n",
       "    }\n",
       "\n",
       "    .dataframe tbody tr th {\n",
       "        vertical-align: top;\n",
       "    }\n",
       "\n",
       "    .dataframe thead th {\n",
       "        text-align: right;\n",
       "    }\n",
       "</style>\n",
       "<table border=\"1\" class=\"dataframe\">\n",
       "  <thead>\n",
       "    <tr style=\"text-align: right;\">\n",
       "      <th></th>\n",
       "      <th>age</th>\n",
       "      <th>workclass</th>\n",
       "      <th>fnlwgt</th>\n",
       "      <th>education</th>\n",
       "      <th>education.num</th>\n",
       "      <th>marital.status</th>\n",
       "      <th>occupation</th>\n",
       "      <th>relationship</th>\n",
       "      <th>race</th>\n",
       "      <th>sex</th>\n",
       "      <th>capital.gain</th>\n",
       "      <th>capital.loss</th>\n",
       "      <th>hours.per.week</th>\n",
       "      <th>native.country</th>\n",
       "      <th>income</th>\n",
       "    </tr>\n",
       "  </thead>\n",
       "  <tbody>\n",
       "    <tr>\n",
       "      <th>0</th>\n",
       "      <td>90</td>\n",
       "      <td>?</td>\n",
       "      <td>77053</td>\n",
       "      <td>HS-grad</td>\n",
       "      <td>9</td>\n",
       "      <td>Widowed</td>\n",
       "      <td>?</td>\n",
       "      <td>Not-in-family</td>\n",
       "      <td>White</td>\n",
       "      <td>Female</td>\n",
       "      <td>0</td>\n",
       "      <td>4356</td>\n",
       "      <td>40</td>\n",
       "      <td>United-States</td>\n",
       "      <td>&lt;=50K</td>\n",
       "    </tr>\n",
       "    <tr>\n",
       "      <th>1</th>\n",
       "      <td>82</td>\n",
       "      <td>Private</td>\n",
       "      <td>132870</td>\n",
       "      <td>HS-grad</td>\n",
       "      <td>9</td>\n",
       "      <td>Widowed</td>\n",
       "      <td>Exec-managerial</td>\n",
       "      <td>Not-in-family</td>\n",
       "      <td>White</td>\n",
       "      <td>Female</td>\n",
       "      <td>0</td>\n",
       "      <td>4356</td>\n",
       "      <td>18</td>\n",
       "      <td>United-States</td>\n",
       "      <td>&lt;=50K</td>\n",
       "    </tr>\n",
       "    <tr>\n",
       "      <th>2</th>\n",
       "      <td>66</td>\n",
       "      <td>?</td>\n",
       "      <td>186061</td>\n",
       "      <td>Some-college</td>\n",
       "      <td>10</td>\n",
       "      <td>Widowed</td>\n",
       "      <td>?</td>\n",
       "      <td>Unmarried</td>\n",
       "      <td>Black</td>\n",
       "      <td>Female</td>\n",
       "      <td>0</td>\n",
       "      <td>4356</td>\n",
       "      <td>40</td>\n",
       "      <td>United-States</td>\n",
       "      <td>&lt;=50K</td>\n",
       "    </tr>\n",
       "  </tbody>\n",
       "</table>\n",
       "</div>"
      ],
      "text/plain": [
       "   age workclass  fnlwgt     education  education.num marital.status  \\\n",
       "0   90         ?   77053       HS-grad              9        Widowed   \n",
       "1   82   Private  132870       HS-grad              9        Widowed   \n",
       "2   66         ?  186061  Some-college             10        Widowed   \n",
       "\n",
       "        occupation   relationship   race     sex  capital.gain  capital.loss  \\\n",
       "0                ?  Not-in-family  White  Female             0          4356   \n",
       "1  Exec-managerial  Not-in-family  White  Female             0          4356   \n",
       "2                ?      Unmarried  Black  Female             0          4356   \n",
       "\n",
       "   hours.per.week native.country income  \n",
       "0              40  United-States  <=50K  \n",
       "1              18  United-States  <=50K  \n",
       "2              40  United-States  <=50K  "
      ]
     },
     "execution_count": 2,
     "metadata": {},
     "output_type": "execute_result"
    }
   ],
   "source": [
    "df.head(3)"
   ]
  },
  {
   "cell_type": "markdown",
   "id": "addressed-blake",
   "metadata": {
    "papermill": {
     "duration": 0.06151,
     "end_time": "2021-05-21T17:59:12.594835",
     "exception": false,
     "start_time": "2021-05-21T17:59:12.533325",
     "status": "completed"
    },
    "tags": []
   },
   "source": [
    "Temos 14 colunas presentes no dataset fornecido, sendo 13 delas variáveis características (dados de entrada) e um delas uma variável-alvo (que queremos que o nosso modelo seja capaz de prever).\n",
    "\n",
    "As variáveis características são:\n",
    "\n",
    "    age             - A idade do usuário\n",
    "    Workclass       - Profissão do usuário\n",
    "    final-weight    - Renda final do usuário\n",
    "    education       - Educação do usuário\n",
    "    education-num   - ID da educação do usuário\n",
    "    marital-status  - Estado-civil do usuário\n",
    "    occupation      - Ocupação do usuário\n",
    "    relationship    - Relacionamento do usuário\n",
    "    race            - Raça do usuário\n",
    "    sex             - Sexo do usuário\n",
    "    capital-gain    - Capital ganho\n",
    "    capital-loss    - Capital perdido\n",
    "    hour-per-week   - Horas por semana\n",
    "    native-country  - Cidade natal\n",
    "\n",
    "A variável-alvo é:\n",
    "\n",
    "    income    - um tipo *binário* que indica a renda do usuário: \n",
    "            <=50k      - Usuário com renda menor ou igual a 50000\n",
    "             >50k      - Usuário com renda maior a 50000"
   ]
  },
  {
   "cell_type": "code",
   "execution_count": 3,
   "id": "million-stuart",
   "metadata": {
    "execution": {
     "iopub.execute_input": "2021-05-21T17:59:12.728686Z",
     "iopub.status.busy": "2021-05-21T17:59:12.727839Z",
     "iopub.status.idle": "2021-05-21T17:59:12.785052Z",
     "shell.execute_reply": "2021-05-21T17:59:12.784450Z",
     "shell.execute_reply.started": "2021-05-21T17:55:10.823666Z"
    },
    "papermill": {
     "duration": 0.128287,
     "end_time": "2021-05-21T17:59:12.785244",
     "exception": false,
     "start_time": "2021-05-21T17:59:12.656957",
     "status": "completed"
    },
    "tags": []
   },
   "outputs": [
    {
     "name": "stdout",
     "output_type": "stream",
     "text": [
      "<class 'pandas.core.frame.DataFrame'>\n",
      "RangeIndex: 32561 entries, 0 to 32560\n",
      "Data columns (total 15 columns):\n",
      " #   Column          Non-Null Count  Dtype \n",
      "---  ------          --------------  ----- \n",
      " 0   age             32561 non-null  int64 \n",
      " 1   workclass       32561 non-null  object\n",
      " 2   fnlwgt          32561 non-null  int64 \n",
      " 3   education       32561 non-null  object\n",
      " 4   education.num   32561 non-null  int64 \n",
      " 5   marital.status  32561 non-null  object\n",
      " 6   occupation      32561 non-null  object\n",
      " 7   relationship    32561 non-null  object\n",
      " 8   race            32561 non-null  object\n",
      " 9   sex             32561 non-null  object\n",
      " 10  capital.gain    32561 non-null  int64 \n",
      " 11  capital.loss    32561 non-null  int64 \n",
      " 12  hours.per.week  32561 non-null  int64 \n",
      " 13  native.country  32561 non-null  object\n",
      " 14  income          32561 non-null  object\n",
      "dtypes: int64(6), object(9)\n",
      "memory usage: 3.7+ MB\n"
     ]
    }
   ],
   "source": [
    "df.info()"
   ]
  },
  {
   "cell_type": "markdown",
   "id": "polish-offering",
   "metadata": {
    "papermill": {
     "duration": 0.06235,
     "end_time": "2021-05-21T17:59:12.932435",
     "exception": false,
     "start_time": "2021-05-21T17:59:12.870085",
     "status": "completed"
    },
    "tags": []
   },
   "source": [
    "É notado que existem variáveis do tipo ``float64`` (números \"decimais\"), variáveis do tipo ``int64`` (números inteiros) e do tipo ``object`` (nesse caso são *strings*, ou texto). \n",
    "\n",
    "Como a maioria dos algoritmos de aprendizado estatístico supervisionado só aceita valores numéricos como entrada, é necessário então o pré-processamento das variáveis do tipo \"object\" antes de usar esse dataset como entrada para o treinamento de um modelo."
   ]
  },
  {
   "cell_type": "markdown",
   "id": "marked-walker",
   "metadata": {
    "papermill": {
     "duration": 0.061234,
     "end_time": "2021-05-21T17:59:13.051466",
     "exception": false,
     "start_time": "2021-05-21T17:59:12.990232",
     "status": "completed"
    },
    "tags": []
   },
   "source": [
    "A função ``describe()`` gera várias informações sobre as variáveis numéricas que também podem ser úteis:"
   ]
  },
  {
   "cell_type": "code",
   "execution_count": 4,
   "id": "applicable-malta",
   "metadata": {
    "execution": {
     "iopub.execute_input": "2021-05-21T17:59:13.185967Z",
     "iopub.status.busy": "2021-05-21T17:59:13.185259Z",
     "iopub.status.idle": "2021-05-21T17:59:13.225456Z",
     "shell.execute_reply": "2021-05-21T17:59:13.224892Z",
     "shell.execute_reply.started": "2021-05-21T17:55:10.869183Z"
    },
    "papermill": {
     "duration": 0.108919,
     "end_time": "2021-05-21T17:59:13.225625",
     "exception": false,
     "start_time": "2021-05-21T17:59:13.116706",
     "status": "completed"
    },
    "tags": []
   },
   "outputs": [
    {
     "data": {
      "text/html": [
       "<div>\n",
       "<style scoped>\n",
       "    .dataframe tbody tr th:only-of-type {\n",
       "        vertical-align: middle;\n",
       "    }\n",
       "\n",
       "    .dataframe tbody tr th {\n",
       "        vertical-align: top;\n",
       "    }\n",
       "\n",
       "    .dataframe thead th {\n",
       "        text-align: right;\n",
       "    }\n",
       "</style>\n",
       "<table border=\"1\" class=\"dataframe\">\n",
       "  <thead>\n",
       "    <tr style=\"text-align: right;\">\n",
       "      <th></th>\n",
       "      <th>age</th>\n",
       "      <th>fnlwgt</th>\n",
       "      <th>education.num</th>\n",
       "      <th>capital.gain</th>\n",
       "      <th>capital.loss</th>\n",
       "      <th>hours.per.week</th>\n",
       "    </tr>\n",
       "  </thead>\n",
       "  <tbody>\n",
       "    <tr>\n",
       "      <th>count</th>\n",
       "      <td>32561.000000</td>\n",
       "      <td>3.256100e+04</td>\n",
       "      <td>32561.000000</td>\n",
       "      <td>32561.000000</td>\n",
       "      <td>32561.000000</td>\n",
       "      <td>32561.000000</td>\n",
       "    </tr>\n",
       "    <tr>\n",
       "      <th>mean</th>\n",
       "      <td>38.581647</td>\n",
       "      <td>1.897784e+05</td>\n",
       "      <td>10.080679</td>\n",
       "      <td>1077.648844</td>\n",
       "      <td>87.303830</td>\n",
       "      <td>40.437456</td>\n",
       "    </tr>\n",
       "    <tr>\n",
       "      <th>std</th>\n",
       "      <td>13.640433</td>\n",
       "      <td>1.055500e+05</td>\n",
       "      <td>2.572720</td>\n",
       "      <td>7385.292085</td>\n",
       "      <td>402.960219</td>\n",
       "      <td>12.347429</td>\n",
       "    </tr>\n",
       "    <tr>\n",
       "      <th>min</th>\n",
       "      <td>17.000000</td>\n",
       "      <td>1.228500e+04</td>\n",
       "      <td>1.000000</td>\n",
       "      <td>0.000000</td>\n",
       "      <td>0.000000</td>\n",
       "      <td>1.000000</td>\n",
       "    </tr>\n",
       "    <tr>\n",
       "      <th>25%</th>\n",
       "      <td>28.000000</td>\n",
       "      <td>1.178270e+05</td>\n",
       "      <td>9.000000</td>\n",
       "      <td>0.000000</td>\n",
       "      <td>0.000000</td>\n",
       "      <td>40.000000</td>\n",
       "    </tr>\n",
       "    <tr>\n",
       "      <th>50%</th>\n",
       "      <td>37.000000</td>\n",
       "      <td>1.783560e+05</td>\n",
       "      <td>10.000000</td>\n",
       "      <td>0.000000</td>\n",
       "      <td>0.000000</td>\n",
       "      <td>40.000000</td>\n",
       "    </tr>\n",
       "    <tr>\n",
       "      <th>75%</th>\n",
       "      <td>48.000000</td>\n",
       "      <td>2.370510e+05</td>\n",
       "      <td>12.000000</td>\n",
       "      <td>0.000000</td>\n",
       "      <td>0.000000</td>\n",
       "      <td>45.000000</td>\n",
       "    </tr>\n",
       "    <tr>\n",
       "      <th>max</th>\n",
       "      <td>90.000000</td>\n",
       "      <td>1.484705e+06</td>\n",
       "      <td>16.000000</td>\n",
       "      <td>99999.000000</td>\n",
       "      <td>4356.000000</td>\n",
       "      <td>99.000000</td>\n",
       "    </tr>\n",
       "  </tbody>\n",
       "</table>\n",
       "</div>"
      ],
      "text/plain": [
       "                age        fnlwgt  education.num  capital.gain  capital.loss  \\\n",
       "count  32561.000000  3.256100e+04   32561.000000  32561.000000  32561.000000   \n",
       "mean      38.581647  1.897784e+05      10.080679   1077.648844     87.303830   \n",
       "std       13.640433  1.055500e+05       2.572720   7385.292085    402.960219   \n",
       "min       17.000000  1.228500e+04       1.000000      0.000000      0.000000   \n",
       "25%       28.000000  1.178270e+05       9.000000      0.000000      0.000000   \n",
       "50%       37.000000  1.783560e+05      10.000000      0.000000      0.000000   \n",
       "75%       48.000000  2.370510e+05      12.000000      0.000000      0.000000   \n",
       "max       90.000000  1.484705e+06      16.000000  99999.000000   4356.000000   \n",
       "\n",
       "       hours.per.week  \n",
       "count    32561.000000  \n",
       "mean        40.437456  \n",
       "std         12.347429  \n",
       "min          1.000000  \n",
       "25%         40.000000  \n",
       "50%         40.000000  \n",
       "75%         45.000000  \n",
       "max         99.000000  "
      ]
     },
     "execution_count": 4,
     "metadata": {},
     "output_type": "execute_result"
    }
   ],
   "source": [
    "df.describe()"
   ]
  },
  {
   "cell_type": "markdown",
   "id": "clinical-belief",
   "metadata": {
    "papermill": {
     "duration": 0.059514,
     "end_time": "2021-05-21T17:59:13.347400",
     "exception": false,
     "start_time": "2021-05-21T17:59:13.287886",
     "status": "completed"
    },
    "tags": []
   },
   "source": [
    "### Definição das features do nosso modelo\n",
    "Para isso, criaremos a váriavel X que receberá as variáveis características do nosso modelo, e a variavel y que receberá a variável-alvo do nosso modelo.\n",
    "\n",
    "Também retiraremos as colunas 'clientid' que não terá relevância no nosso modelo"
   ]
  },
  {
   "cell_type": "code",
   "execution_count": 5,
   "id": "variable-baker",
   "metadata": {
    "execution": {
     "iopub.execute_input": "2021-05-21T17:59:13.480437Z",
     "iopub.status.busy": "2021-05-21T17:59:13.479412Z",
     "iopub.status.idle": "2021-05-21T17:59:13.485349Z",
     "shell.execute_reply": "2021-05-21T17:59:13.484821Z",
     "shell.execute_reply.started": "2021-05-21T17:55:10.906274Z"
    },
    "papermill": {
     "duration": 0.075774,
     "end_time": "2021-05-21T17:59:13.485499",
     "exception": false,
     "start_time": "2021-05-21T17:59:13.409725",
     "status": "completed"
    },
    "tags": []
   },
   "outputs": [
    {
     "data": {
      "text/plain": [
       "Index(['age', 'workclass', 'fnlwgt', 'education', 'education.num',\n",
       "       'marital.status', 'occupation', 'relationship', 'race', 'sex',\n",
       "       'capital.gain', 'capital.loss', 'hours.per.week', 'native.country',\n",
       "       'income'],\n",
       "      dtype='object')"
      ]
     },
     "execution_count": 5,
     "metadata": {},
     "output_type": "execute_result"
    }
   ],
   "source": [
    "# Checando as colunas do nosso dataset\n",
    "df.columns"
   ]
  },
  {
   "cell_type": "code",
   "execution_count": 6,
   "id": "different-rates",
   "metadata": {
    "execution": {
     "iopub.execute_input": "2021-05-21T17:59:13.618331Z",
     "iopub.status.busy": "2021-05-21T17:59:13.617558Z",
     "iopub.status.idle": "2021-05-21T17:59:13.643745Z",
     "shell.execute_reply": "2021-05-21T17:59:13.642424Z",
     "shell.execute_reply.started": "2021-05-21T17:55:10.916008Z"
    },
    "papermill": {
     "duration": 0.097915,
     "end_time": "2021-05-21T17:59:13.644068",
     "exception": false,
     "start_time": "2021-05-21T17:59:13.546153",
     "status": "completed"
    },
    "tags": []
   },
   "outputs": [],
   "source": [
    "# Definição das colunas que serão features (nota-se que a coluna 'clientid' não está presente)\n",
    "features = [\n",
    "    'age', 'workclass', 'fnlwgt', 'education', 'education.num',\n",
    "    'marital.status', 'occupation', 'relationship', 'race', 'sex',\n",
    "    'capital.gain', 'capital.loss', 'hours.per.week', 'native.country'\n",
    "]\n",
    "\n",
    "# Definição da variável-alvo\n",
    "target = [\"income\"]\n",
    "\n",
    "# Preparação dos argumentos para os métodos da biblioteca ``scikit-learn``\n",
    "X = df[features].values\n",
    "y = df[target].values"
   ]
  },
  {
   "cell_type": "markdown",
   "id": "destroyed-circle",
   "metadata": {
    "papermill": {
     "duration": 0.067163,
     "end_time": "2021-05-21T17:59:13.775285",
     "exception": false,
     "start_time": "2021-05-21T17:59:13.708122",
     "status": "completed"
    },
    "tags": []
   },
   "source": [
    "### Tratamento de variáveis categóricas\n",
    "\n",
    "Como mencionado antes, os computadores não são bons com variáveis \"categóricas\" (ou strings).\n",
    "\n",
    "Dado uma coluna com variável categórica, o que podemos realizar é a codificação dessa coluna em múltiplas colunas contendo variáveis binárias. Esse processo é chamado de \"one-hot-encoding\" ou \"dummy encoding\"."
   ]
  },
  {
   "cell_type": "code",
   "execution_count": 7,
   "id": "educational-phase",
   "metadata": {
    "execution": {
     "iopub.execute_input": "2021-05-21T17:59:13.906092Z",
     "iopub.status.busy": "2021-05-21T17:59:13.905287Z",
     "iopub.status.idle": "2021-05-21T17:59:15.160330Z",
     "shell.execute_reply": "2021-05-21T17:59:15.158874Z",
     "shell.execute_reply.started": "2021-05-21T17:55:10.950400Z"
    },
    "papermill": {
     "duration": 1.324687,
     "end_time": "2021-05-21T17:59:15.160561",
     "exception": false,
     "start_time": "2021-05-21T17:59:13.835874",
     "status": "completed"
    },
    "tags": []
   },
   "outputs": [],
   "source": [
    "from sklearn.preprocessing import LabelEncoder\n",
    "\n",
    "lbp = LabelEncoder()"
   ]
  },
  {
   "cell_type": "code",
   "execution_count": 8,
   "id": "documentary-guatemala",
   "metadata": {
    "execution": {
     "iopub.execute_input": "2021-05-21T17:59:15.325840Z",
     "iopub.status.busy": "2021-05-21T17:59:15.319915Z",
     "iopub.status.idle": "2021-05-21T17:59:15.404506Z",
     "shell.execute_reply": "2021-05-21T17:59:15.403914Z",
     "shell.execute_reply.started": "2021-05-21T17:55:11.367346Z"
    },
    "papermill": {
     "duration": 0.175401,
     "end_time": "2021-05-21T17:59:15.404682",
     "exception": false,
     "start_time": "2021-05-21T17:59:15.229281",
     "status": "completed"
    },
    "tags": []
   },
   "outputs": [],
   "source": [
    "# Parte da transformação de categóricos para inteiros\n",
    "\n",
    "X[:, 1] = lbp.fit_transform(X[:, 1])\n",
    "\n",
    "X[:, 3] = lbp.fit_transform(X[:, 3])\n",
    "\n",
    "X[:, 5] = lbp.fit_transform(X[:, 5])\n",
    "\n",
    "X[:, 6] = lbp.fit_transform(X[:, 6])\n",
    "\n",
    "X[:, 7] = lbp.fit_transform(X[:, 7])\n",
    "X\n",
    "X[:, 8] = lbp.fit_transform(X[:, 8])\n",
    "\n",
    "X[:, 9] = lbp.fit_transform(X[:, 9])\n",
    "\n",
    "X[:, 13] = lbp.fit_transform(X[:, 13])"
   ]
  },
  {
   "cell_type": "markdown",
   "id": "optional-committee",
   "metadata": {
    "papermill": {
     "duration": 0.065744,
     "end_time": "2021-05-21T17:59:15.538197",
     "exception": false,
     "start_time": "2021-05-21T17:59:15.472453",
     "status": "completed"
    },
    "tags": []
   },
   "source": [
    "###### Checando se os dados foram alterados das três primeiras linhas"
   ]
  },
  {
   "cell_type": "code",
   "execution_count": 9,
   "id": "under-peeing",
   "metadata": {
    "execution": {
     "iopub.execute_input": "2021-05-21T17:59:15.683879Z",
     "iopub.status.busy": "2021-05-21T17:59:15.682848Z",
     "iopub.status.idle": "2021-05-21T17:59:15.699606Z",
     "shell.execute_reply": "2021-05-21T17:59:15.700197Z",
     "shell.execute_reply.started": "2021-05-21T17:55:11.465636Z"
    },
    "papermill": {
     "duration": 0.088839,
     "end_time": "2021-05-21T17:59:15.700423",
     "exception": false,
     "start_time": "2021-05-21T17:59:15.611584",
     "status": "completed"
    },
    "scrolled": true,
    "tags": []
   },
   "outputs": [
    {
     "data": {
      "text/html": [
       "<div>\n",
       "<style scoped>\n",
       "    .dataframe tbody tr th:only-of-type {\n",
       "        vertical-align: middle;\n",
       "    }\n",
       "\n",
       "    .dataframe tbody tr th {\n",
       "        vertical-align: top;\n",
       "    }\n",
       "\n",
       "    .dataframe thead th {\n",
       "        text-align: right;\n",
       "    }\n",
       "</style>\n",
       "<table border=\"1\" class=\"dataframe\">\n",
       "  <thead>\n",
       "    <tr style=\"text-align: right;\">\n",
       "      <th></th>\n",
       "      <th>age</th>\n",
       "      <th>workclass</th>\n",
       "      <th>fnlwgt</th>\n",
       "      <th>education</th>\n",
       "      <th>education.num</th>\n",
       "      <th>marital.status</th>\n",
       "      <th>occupation</th>\n",
       "      <th>relationship</th>\n",
       "      <th>race</th>\n",
       "      <th>sex</th>\n",
       "      <th>capital.gain</th>\n",
       "      <th>capital.loss</th>\n",
       "      <th>hours.per.week</th>\n",
       "      <th>native.country</th>\n",
       "      <th>income</th>\n",
       "    </tr>\n",
       "  </thead>\n",
       "  <tbody>\n",
       "    <tr>\n",
       "      <th>0</th>\n",
       "      <td>90</td>\n",
       "      <td>?</td>\n",
       "      <td>77053</td>\n",
       "      <td>HS-grad</td>\n",
       "      <td>9</td>\n",
       "      <td>Widowed</td>\n",
       "      <td>?</td>\n",
       "      <td>Not-in-family</td>\n",
       "      <td>White</td>\n",
       "      <td>Female</td>\n",
       "      <td>0</td>\n",
       "      <td>4356</td>\n",
       "      <td>40</td>\n",
       "      <td>United-States</td>\n",
       "      <td>&lt;=50K</td>\n",
       "    </tr>\n",
       "    <tr>\n",
       "      <th>1</th>\n",
       "      <td>82</td>\n",
       "      <td>Private</td>\n",
       "      <td>132870</td>\n",
       "      <td>HS-grad</td>\n",
       "      <td>9</td>\n",
       "      <td>Widowed</td>\n",
       "      <td>Exec-managerial</td>\n",
       "      <td>Not-in-family</td>\n",
       "      <td>White</td>\n",
       "      <td>Female</td>\n",
       "      <td>0</td>\n",
       "      <td>4356</td>\n",
       "      <td>18</td>\n",
       "      <td>United-States</td>\n",
       "      <td>&lt;=50K</td>\n",
       "    </tr>\n",
       "    <tr>\n",
       "      <th>2</th>\n",
       "      <td>66</td>\n",
       "      <td>?</td>\n",
       "      <td>186061</td>\n",
       "      <td>Some-college</td>\n",
       "      <td>10</td>\n",
       "      <td>Widowed</td>\n",
       "      <td>?</td>\n",
       "      <td>Unmarried</td>\n",
       "      <td>Black</td>\n",
       "      <td>Female</td>\n",
       "      <td>0</td>\n",
       "      <td>4356</td>\n",
       "      <td>40</td>\n",
       "      <td>United-States</td>\n",
       "      <td>&lt;=50K</td>\n",
       "    </tr>\n",
       "  </tbody>\n",
       "</table>\n",
       "</div>"
      ],
      "text/plain": [
       "   age workclass  fnlwgt     education  education.num marital.status  \\\n",
       "0   90         ?   77053       HS-grad              9        Widowed   \n",
       "1   82   Private  132870       HS-grad              9        Widowed   \n",
       "2   66         ?  186061  Some-college             10        Widowed   \n",
       "\n",
       "        occupation   relationship   race     sex  capital.gain  capital.loss  \\\n",
       "0                ?  Not-in-family  White  Female             0          4356   \n",
       "1  Exec-managerial  Not-in-family  White  Female             0          4356   \n",
       "2                ?      Unmarried  Black  Female             0          4356   \n",
       "\n",
       "   hours.per.week native.country income  \n",
       "0              40  United-States  <=50K  \n",
       "1              18  United-States  <=50K  \n",
       "2              40  United-States  <=50K  "
      ]
     },
     "execution_count": 9,
     "metadata": {},
     "output_type": "execute_result"
    }
   ],
   "source": [
    "df.head(3)"
   ]
  },
  {
   "cell_type": "code",
   "execution_count": 10,
   "id": "successful-manufacturer",
   "metadata": {
    "execution": {
     "iopub.execute_input": "2021-05-21T17:59:15.832010Z",
     "iopub.status.busy": "2021-05-21T17:59:15.831167Z",
     "iopub.status.idle": "2021-05-21T17:59:15.838725Z",
     "shell.execute_reply": "2021-05-21T17:59:15.838059Z",
     "shell.execute_reply.started": "2021-05-21T17:55:11.485751Z"
    },
    "papermill": {
     "duration": 0.072727,
     "end_time": "2021-05-21T17:59:15.838927",
     "exception": false,
     "start_time": "2021-05-21T17:59:15.766200",
     "status": "completed"
    },
    "tags": []
   },
   "outputs": [
    {
     "data": {
      "text/plain": [
       "array([[90, 0, 77053, 11, 9, 6, 0, 1, 4, 0, 0, 4356, 40, 39],\n",
       "       [82, 4, 132870, 11, 9, 6, 4, 1, 4, 0, 0, 4356, 18, 39],\n",
       "       [66, 0, 186061, 15, 10, 6, 0, 4, 2, 0, 0, 4356, 40, 39]],\n",
       "      dtype=object)"
      ]
     },
     "execution_count": 10,
     "metadata": {},
     "output_type": "execute_result"
    }
   ],
   "source": [
    "X[0:3]"
   ]
  },
  {
   "cell_type": "markdown",
   "id": "duplicate-slide",
   "metadata": {
    "papermill": {
     "duration": 0.070758,
     "end_time": "2021-05-21T17:59:15.977355",
     "exception": false,
     "start_time": "2021-05-21T17:59:15.906597",
     "status": "completed"
    },
    "tags": []
   },
   "source": [
    "Dados alterados :D"
   ]
  },
  {
   "cell_type": "markdown",
   "id": "structured-diversity",
   "metadata": {
    "papermill": {
     "duration": 0.073281,
     "end_time": "2021-05-21T17:59:16.121090",
     "exception": false,
     "start_time": "2021-05-21T17:59:16.047809",
     "status": "completed"
    },
    "tags": []
   },
   "source": [
    "#### Escalonamento dos dados númericos\n",
    "Como podemos ver nos dados há uma grande diferença de números altos e números baixos, por isso devemos fazer o escalonamento dos dados para deixa-los na mesma escala."
   ]
  },
  {
   "cell_type": "code",
   "execution_count": 11,
   "id": "expensive-schema",
   "metadata": {
    "execution": {
     "iopub.execute_input": "2021-05-21T17:59:16.261636Z",
     "iopub.status.busy": "2021-05-21T17:59:16.260909Z",
     "iopub.status.idle": "2021-05-21T17:59:16.264894Z",
     "shell.execute_reply": "2021-05-21T17:59:16.264279Z",
     "shell.execute_reply.started": "2021-05-21T17:55:11.493580Z"
    },
    "papermill": {
     "duration": 0.073457,
     "end_time": "2021-05-21T17:59:16.265046",
     "exception": false,
     "start_time": "2021-05-21T17:59:16.191589",
     "status": "completed"
    },
    "tags": []
   },
   "outputs": [],
   "source": [
    "from sklearn.preprocessing import StandardScaler"
   ]
  },
  {
   "cell_type": "code",
   "execution_count": 12,
   "id": "cleared-princeton",
   "metadata": {
    "execution": {
     "iopub.execute_input": "2021-05-21T17:59:16.388541Z",
     "iopub.status.busy": "2021-05-21T17:59:16.387802Z",
     "iopub.status.idle": "2021-05-21T17:59:16.393123Z",
     "shell.execute_reply": "2021-05-21T17:59:16.393596Z",
     "shell.execute_reply.started": "2021-05-21T17:55:11.503794Z"
    },
    "papermill": {
     "duration": 0.069524,
     "end_time": "2021-05-21T17:59:16.393801",
     "exception": false,
     "start_time": "2021-05-21T17:59:16.324277",
     "status": "completed"
    },
    "tags": []
   },
   "outputs": [],
   "source": [
    "scaler = StandardScaler()"
   ]
  },
  {
   "cell_type": "code",
   "execution_count": 13,
   "id": "loose-occasion",
   "metadata": {
    "execution": {
     "iopub.execute_input": "2021-05-21T17:59:16.518178Z",
     "iopub.status.busy": "2021-05-21T17:59:16.517428Z",
     "iopub.status.idle": "2021-05-21T17:59:16.612422Z",
     "shell.execute_reply": "2021-05-21T17:59:16.612973Z",
     "shell.execute_reply.started": "2021-05-21T17:55:11.515683Z"
    },
    "papermill": {
     "duration": 0.159391,
     "end_time": "2021-05-21T17:59:16.613187",
     "exception": false,
     "start_time": "2021-05-21T17:59:16.453796",
     "status": "completed"
    },
    "tags": []
   },
   "outputs": [],
   "source": [
    "X = scaler.fit_transform(X)"
   ]
  },
  {
   "cell_type": "code",
   "execution_count": 14,
   "id": "appreciated-entrance",
   "metadata": {
    "execution": {
     "iopub.execute_input": "2021-05-21T17:59:16.740703Z",
     "iopub.status.busy": "2021-05-21T17:59:16.740054Z",
     "iopub.status.idle": "2021-05-21T17:59:16.746704Z",
     "shell.execute_reply": "2021-05-21T17:59:16.747194Z",
     "shell.execute_reply.started": "2021-05-21T17:55:11.599555Z"
    },
    "papermill": {
     "duration": 0.070897,
     "end_time": "2021-05-21T17:59:16.747380",
     "exception": false,
     "start_time": "2021-05-21T17:59:16.676483",
     "status": "completed"
    },
    "tags": []
   },
   "outputs": [
    {
     "data": {
      "text/plain": [
       "array([[ 3.76961234, -2.65732045, -1.06799736, ..., 10.59350656,\n",
       "        -0.03542945,  0.29156857],\n",
       "       [ 3.18311167,  0.09005041, -0.53916866, ..., 10.59350656,\n",
       "        -1.81720429,  0.29156857],\n",
       "       [ 2.01011032, -2.65732045, -0.03521956, ..., 10.59350656,\n",
       "        -0.03542945,  0.29156857],\n",
       "       ...,\n",
       "       [ 0.10398314,  0.09005041, -0.33543266, ..., -0.21665953,\n",
       "        -0.03542945,  0.29156857],\n",
       "       [ 1.42360965,  0.09005041, -0.35877741, ..., -0.21665953,\n",
       "        -0.03542945,  0.29156857],\n",
       "       [-1.21564337,  0.09005041,  0.11095988, ..., -0.21665953,\n",
       "        -1.65522476,  0.29156857]])"
      ]
     },
     "execution_count": 14,
     "metadata": {},
     "output_type": "execute_result"
    }
   ],
   "source": [
    "X"
   ]
  },
  {
   "cell_type": "markdown",
   "id": "advance-identification",
   "metadata": {
    "papermill": {
     "duration": 0.059015,
     "end_time": "2021-05-21T17:59:16.866823",
     "exception": false,
     "start_time": "2021-05-21T17:59:16.807808",
     "status": "completed"
    },
    "tags": []
   },
   "source": [
    "### Treinando os modelos de classificação\n",
    "Finalizado o pré-processamento, já temos o conjunto de dados no formato necessário para o treinamento do nosso modelo"
   ]
  },
  {
   "cell_type": "markdown",
   "id": "acknowledged-damages",
   "metadata": {
    "papermill": {
     "duration": 0.05961,
     "end_time": "2021-05-21T17:59:16.985629",
     "exception": false,
     "start_time": "2021-05-21T17:59:16.926019",
     "status": "completed"
    },
    "tags": []
   },
   "source": [
    "### Importações dos algoritmos de ML"
   ]
  },
  {
   "cell_type": "code",
   "execution_count": 15,
   "id": "celtic-intro",
   "metadata": {
    "execution": {
     "iopub.execute_input": "2021-05-21T17:59:17.108678Z",
     "iopub.status.busy": "2021-05-21T17:59:17.108027Z",
     "iopub.status.idle": "2021-05-21T17:59:23.775949Z",
     "shell.execute_reply": "2021-05-21T17:59:23.774992Z",
     "shell.execute_reply.started": "2021-05-21T17:55:11.606852Z"
    },
    "papermill": {
     "duration": 6.73102,
     "end_time": "2021-05-21T17:59:23.776192",
     "exception": false,
     "start_time": "2021-05-21T17:59:17.045172",
     "status": "completed"
    },
    "tags": []
   },
   "outputs": [],
   "source": [
    "from sklearn.model_selection import train_test_split\n",
    "from sklearn.metrics import accuracy_score, confusion_matrix, classification_report\n",
    "from sklearn.naive_bayes import GaussianNB\n",
    "from sklearn.tree import DecisionTreeClassifier\n",
    "from sklearn.ensemble import RandomForestClassifier\n",
    "from sklearn.neighbors import KNeighborsClassifier\n",
    "from sklearn.linear_model import LogisticRegression\n",
    "from sklearn.svm import SVC\n",
    "from sklearn.neural_network import MLPClassifier\n",
    "# Redes neurais com keras\n",
    "import keras\n",
    "from keras.models import Sequential\n",
    "from keras.layers import Dense"
   ]
  },
  {
   "cell_type": "markdown",
   "id": "fitting-result",
   "metadata": {
    "papermill": {
     "duration": 0.068308,
     "end_time": "2021-05-21T17:59:23.934262",
     "exception": false,
     "start_time": "2021-05-21T17:59:23.865954",
     "status": "completed"
    },
    "tags": []
   },
   "source": [
    "#### Separando o dataset em um conjunto de treino e um conjunto de teste\n",
    "Iremos separar o dataset fornecido em dois grupos: um para treinar nosso modelo, e outro para testarmos o resultado através de um teste cego."
   ]
  },
  {
   "cell_type": "code",
   "execution_count": 16,
   "id": "separate-equipment",
   "metadata": {
    "execution": {
     "iopub.execute_input": "2021-05-21T17:59:24.081654Z",
     "iopub.status.busy": "2021-05-21T17:59:24.080692Z",
     "iopub.status.idle": "2021-05-21T17:59:24.094395Z",
     "shell.execute_reply": "2021-05-21T17:59:24.093583Z",
     "shell.execute_reply.started": "2021-05-21T17:55:13.403823Z"
    },
    "papermill": {
     "duration": 0.092219,
     "end_time": "2021-05-21T17:59:24.094636",
     "exception": false,
     "start_time": "2021-05-21T17:59:24.002417",
     "status": "completed"
    },
    "tags": []
   },
   "outputs": [],
   "source": [
    "# Separação dos dados em um conjunto de treino e um conjunto de teste\n",
    "X_train, X_test, y_train, y_test = train_test_split(X, y, test_size=0.25, random_state=0)"
   ]
  },
  {
   "cell_type": "markdown",
   "id": "refined-flood",
   "metadata": {
    "papermill": {
     "duration": 0.069231,
     "end_time": "2021-05-21T17:59:24.233138",
     "exception": false,
     "start_time": "2021-05-21T17:59:24.163907",
     "status": "completed"
    },
    "tags": []
   },
   "source": [
    "### Naive Bayes \n",
    "O algoritmo Naive Bayes é um algoritmo simples de classificação, que utiliza dados históricos para prever a classificação de um novo dado. Ele funciona calculando a probabilidade de um evento ocorrer dado que outro evento já ocorreu"
   ]
  },
  {
   "cell_type": "code",
   "execution_count": 17,
   "id": "surgical-edition",
   "metadata": {
    "execution": {
     "iopub.execute_input": "2021-05-21T17:59:24.376426Z",
     "iopub.status.busy": "2021-05-21T17:59:24.375024Z",
     "iopub.status.idle": "2021-05-21T17:59:24.378561Z",
     "shell.execute_reply": "2021-05-21T17:59:24.377975Z",
     "shell.execute_reply.started": "2021-05-21T17:55:13.416839Z"
    },
    "papermill": {
     "duration": 0.077434,
     "end_time": "2021-05-21T17:59:24.378712",
     "exception": false,
     "start_time": "2021-05-21T17:59:24.301278",
     "status": "completed"
    },
    "tags": []
   },
   "outputs": [],
   "source": [
    "nb = GaussianNB()"
   ]
  },
  {
   "cell_type": "code",
   "execution_count": 18,
   "id": "extreme-headquarters",
   "metadata": {
    "execution": {
     "iopub.execute_input": "2021-05-21T17:59:24.516058Z",
     "iopub.status.busy": "2021-05-21T17:59:24.515054Z",
     "iopub.status.idle": "2021-05-21T17:59:24.583680Z",
     "shell.execute_reply": "2021-05-21T17:59:24.584431Z",
     "shell.execute_reply.started": "2021-05-21T17:55:13.425650Z"
    },
    "papermill": {
     "duration": 0.138685,
     "end_time": "2021-05-21T17:59:24.585025",
     "exception": false,
     "start_time": "2021-05-21T17:59:24.446340",
     "status": "completed"
    },
    "tags": []
   },
   "outputs": [
    {
     "name": "stderr",
     "output_type": "stream",
     "text": [
      "/opt/conda/lib/python3.7/site-packages/sklearn/utils/validation.py:63: DataConversionWarning: A column-vector y was passed when a 1d array was expected. Please change the shape of y to (n_samples, ), for example using ravel().\n",
      "  return f(*args, **kwargs)\n"
     ]
    }
   ],
   "source": [
    "# Parte do treinamento\n",
    "nb.fit(X_train, y_train)\n",
    "# Parte do teste, predict serve para testar\n",
    "y_pred_nb = nb.predict(X_test)"
   ]
  },
  {
   "cell_type": "code",
   "execution_count": 19,
   "id": "improved-african",
   "metadata": {
    "execution": {
     "iopub.execute_input": "2021-05-21T17:59:24.735732Z",
     "iopub.status.busy": "2021-05-21T17:59:24.734205Z",
     "iopub.status.idle": "2021-05-21T17:59:24.758277Z",
     "shell.execute_reply": "2021-05-21T17:59:24.757504Z",
     "shell.execute_reply.started": "2021-05-21T17:55:13.490484Z"
    },
    "papermill": {
     "duration": 0.102916,
     "end_time": "2021-05-21T17:59:24.758451",
     "exception": false,
     "start_time": "2021-05-21T17:59:24.655535",
     "status": "completed"
    },
    "scrolled": true,
    "tags": []
   },
   "outputs": [
    {
     "name": "stdout",
     "output_type": "stream",
     "text": [
      "Acurácia: 80.0%\n"
     ]
    }
   ],
   "source": [
    "# Acurácia alcançada pelo algortimo Naive Bayes\n",
    "print(\"Acurácia: {}%\".format(100*round(accuracy_score(y_test, y_pred_nb), 2)))"
   ]
  },
  {
   "cell_type": "code",
   "execution_count": 20,
   "id": "novel-tolerance",
   "metadata": {
    "execution": {
     "iopub.execute_input": "2021-05-21T17:59:24.905936Z",
     "iopub.status.busy": "2021-05-21T17:59:24.905208Z",
     "iopub.status.idle": "2021-05-21T17:59:25.247212Z",
     "shell.execute_reply": "2021-05-21T17:59:25.246439Z",
     "shell.execute_reply.started": "2021-05-21T17:55:13.520855Z"
    },
    "papermill": {
     "duration": 0.420719,
     "end_time": "2021-05-21T17:59:25.247382",
     "exception": false,
     "start_time": "2021-05-21T17:59:24.826663",
     "status": "completed"
    },
    "tags": []
   },
   "outputs": [
    {
     "name": "stdout",
     "output_type": "stream",
     "text": [
      "              precision    recall  f1-score   support\n",
      "\n",
      "       <=50K       0.82      0.95      0.88      6193\n",
      "        >50K       0.68      0.33      0.44      1948\n",
      "\n",
      "    accuracy                           0.80      8141\n",
      "   macro avg       0.75      0.64      0.66      8141\n",
      "weighted avg       0.79      0.80      0.78      8141\n",
      "\n"
     ]
    }
   ],
   "source": [
    "print(classification_report(y_test, y_pred_nb))"
   ]
  },
  {
   "cell_type": "code",
   "execution_count": 21,
   "id": "outstanding-sitting",
   "metadata": {
    "execution": {
     "iopub.execute_input": "2021-05-21T17:59:25.419594Z",
     "iopub.status.busy": "2021-05-21T17:59:25.398327Z",
     "iopub.status.idle": "2021-05-21T17:59:25.446203Z",
     "shell.execute_reply": "2021-05-21T17:59:25.445476Z",
     "shell.execute_reply.started": "2021-05-21T17:55:13.857335Z"
    },
    "papermill": {
     "duration": 0.130826,
     "end_time": "2021-05-21T17:59:25.446361",
     "exception": false,
     "start_time": "2021-05-21T17:59:25.315535",
     "status": "completed"
    },
    "tags": []
   },
   "outputs": [
    {
     "data": {
      "text/plain": [
       "array([[5899,  294],\n",
       "       [1311,  637]])"
      ]
     },
     "execution_count": 21,
     "metadata": {},
     "output_type": "execute_result"
    }
   ],
   "source": [
    "# matriz de confusão de acertos\n",
    "confusion_matrix(y_test, y_pred_nb)"
   ]
  },
  {
   "cell_type": "markdown",
   "id": "median-specialist",
   "metadata": {
    "papermill": {
     "duration": 0.061429,
     "end_time": "2021-05-21T17:59:25.569923",
     "exception": false,
     "start_time": "2021-05-21T17:59:25.508494",
     "status": "completed"
    },
    "tags": []
   },
   "source": [
    "#### Resultados Finais do algoritmo Naive Bayes\n",
    "Tive que fazer vários testes cada um com a transformação diferente, e cheguei a estes resultados:\n",
    "\n",
    "    47,67% Naive Bayes (labelencoder + onehotencoder + escalonamento)\n",
    "    79,52% Naive Bayes (labelencoder)\n",
    "    79,50% Naive Bayes (labelencoder + onehotencoder)\n",
    "    80,57% Naive Bayes (labelencoder + escalonamento)"
   ]
  },
  {
   "cell_type": "markdown",
   "id": "hairy-wyoming",
   "metadata": {
    "papermill": {
     "duration": 0.065071,
     "end_time": "2021-05-21T17:59:25.699266",
     "exception": false,
     "start_time": "2021-05-21T17:59:25.634195",
     "status": "completed"
    },
    "tags": []
   },
   "source": [
    "### Decision Tree\n",
    "O algoritmo Decision Tree são modelos estatísticos que utilizam um treinamento supervisionado para a classificação e previsão de dados, Estes modelos utilizam a estratégia de dividir para conquistar: um problema complexo é decomposto em sub-problemas mais simples e recursivamente esta técnica é aplicada a cada sub-problema"
   ]
  },
  {
   "cell_type": "code",
   "execution_count": 22,
   "id": "thirty-assembly",
   "metadata": {
    "execution": {
     "iopub.execute_input": "2021-05-21T17:59:25.836233Z",
     "iopub.status.busy": "2021-05-21T17:59:25.835290Z",
     "iopub.status.idle": "2021-05-21T17:59:25.839837Z",
     "shell.execute_reply": "2021-05-21T17:59:25.839129Z",
     "shell.execute_reply.started": "2021-05-21T17:55:13.910559Z"
    },
    "papermill": {
     "duration": 0.074279,
     "end_time": "2021-05-21T17:59:25.839988",
     "exception": false,
     "start_time": "2021-05-21T17:59:25.765709",
     "status": "completed"
    },
    "tags": []
   },
   "outputs": [],
   "source": [
    "dt = DecisionTreeClassifier(criterion='entropy', random_state = 0)"
   ]
  },
  {
   "cell_type": "code",
   "execution_count": 23,
   "id": "paperback-handy",
   "metadata": {
    "execution": {
     "iopub.execute_input": "2021-05-21T17:59:25.968535Z",
     "iopub.status.busy": "2021-05-21T17:59:25.967593Z",
     "iopub.status.idle": "2021-05-21T17:59:26.177120Z",
     "shell.execute_reply": "2021-05-21T17:59:26.176435Z",
     "shell.execute_reply.started": "2021-05-21T17:55:13.916697Z"
    },
    "papermill": {
     "duration": 0.275712,
     "end_time": "2021-05-21T17:59:26.177264",
     "exception": false,
     "start_time": "2021-05-21T17:59:25.901552",
     "status": "completed"
    },
    "tags": []
   },
   "outputs": [
    {
     "data": {
      "text/plain": [
       "DecisionTreeClassifier(criterion='entropy', random_state=0)"
      ]
     },
     "execution_count": 23,
     "metadata": {},
     "output_type": "execute_result"
    }
   ],
   "source": [
    "dt.fit(X_train, y_train)"
   ]
  },
  {
   "cell_type": "code",
   "execution_count": 24,
   "id": "beneficial-morocco",
   "metadata": {
    "execution": {
     "iopub.execute_input": "2021-05-21T17:59:26.306129Z",
     "iopub.status.busy": "2021-05-21T17:59:26.305053Z",
     "iopub.status.idle": "2021-05-21T17:59:26.312341Z",
     "shell.execute_reply": "2021-05-21T17:59:26.311620Z",
     "shell.execute_reply.started": "2021-05-21T17:55:14.124701Z"
    },
    "papermill": {
     "duration": 0.073283,
     "end_time": "2021-05-21T17:59:26.312504",
     "exception": false,
     "start_time": "2021-05-21T17:59:26.239221",
     "status": "completed"
    },
    "tags": []
   },
   "outputs": [],
   "source": [
    "y_pred_dt = dt.predict(X_test)"
   ]
  },
  {
   "cell_type": "code",
   "execution_count": 25,
   "id": "czech-advantage",
   "metadata": {
    "execution": {
     "iopub.execute_input": "2021-05-21T17:59:26.469946Z",
     "iopub.status.busy": "2021-05-21T17:59:26.456488Z",
     "iopub.status.idle": "2021-05-21T17:59:26.474780Z",
     "shell.execute_reply": "2021-05-21T17:59:26.475265Z",
     "shell.execute_reply.started": "2021-05-21T17:55:14.132068Z"
    },
    "papermill": {
     "duration": 0.098146,
     "end_time": "2021-05-21T17:59:26.475457",
     "exception": false,
     "start_time": "2021-05-21T17:59:26.377311",
     "status": "completed"
    },
    "scrolled": true,
    "tags": []
   },
   "outputs": [
    {
     "name": "stdout",
     "output_type": "stream",
     "text": [
      "Acurácia: 82.0%\n"
     ]
    }
   ],
   "source": [
    "# Acurácia alcançada pelo algortimo Decision Tree\n",
    "print(\"Acurácia: {}%\".format(100*round(accuracy_score(y_test, y_pred_dt), 2)))"
   ]
  },
  {
   "cell_type": "code",
   "execution_count": 26,
   "id": "daily-trance",
   "metadata": {
    "execution": {
     "iopub.execute_input": "2021-05-21T17:59:26.627077Z",
     "iopub.status.busy": "2021-05-21T17:59:26.609584Z",
     "iopub.status.idle": "2021-05-21T17:59:27.039779Z",
     "shell.execute_reply": "2021-05-21T17:59:27.040594Z",
     "shell.execute_reply.started": "2021-05-21T17:55:14.166481Z"
    },
    "papermill": {
     "duration": 0.503826,
     "end_time": "2021-05-21T17:59:27.040922",
     "exception": false,
     "start_time": "2021-05-21T17:59:26.537096",
     "status": "completed"
    },
    "scrolled": true,
    "tags": []
   },
   "outputs": [
    {
     "name": "stdout",
     "output_type": "stream",
     "text": [
      "              precision    recall  f1-score   support\n",
      "\n",
      "       <=50K       0.88      0.88      0.88      6193\n",
      "        >50K       0.62      0.62      0.62      1948\n",
      "\n",
      "    accuracy                           0.82      8141\n",
      "   macro avg       0.75      0.75      0.75      8141\n",
      "weighted avg       0.82      0.82      0.82      8141\n",
      "\n"
     ]
    }
   ],
   "source": [
    "print(classification_report(y_test, y_pred_dt))"
   ]
  },
  {
   "cell_type": "code",
   "execution_count": 27,
   "id": "sunrise-newcastle",
   "metadata": {
    "execution": {
     "iopub.execute_input": "2021-05-21T17:59:27.184702Z",
     "iopub.status.busy": "2021-05-21T17:59:27.178683Z",
     "iopub.status.idle": "2021-05-21T17:59:27.232182Z",
     "shell.execute_reply": "2021-05-21T17:59:27.231408Z",
     "shell.execute_reply.started": "2021-05-21T17:55:14.574586Z"
    },
    "papermill": {
     "duration": 0.128118,
     "end_time": "2021-05-21T17:59:27.232342",
     "exception": false,
     "start_time": "2021-05-21T17:59:27.104224",
     "status": "completed"
    },
    "tags": []
   },
   "outputs": [
    {
     "data": {
      "text/plain": [
       "array([[5444,  749],\n",
       "       [ 732, 1216]])"
      ]
     },
     "execution_count": 27,
     "metadata": {},
     "output_type": "execute_result"
    }
   ],
   "source": [
    "# matriz de confusão de acertos\n",
    "confusion_matrix(y_test, y_pred_dt)"
   ]
  },
  {
   "cell_type": "markdown",
   "id": "grave-albert",
   "metadata": {
    "papermill": {
     "duration": 0.062477,
     "end_time": "2021-05-21T17:59:27.358301",
     "exception": false,
     "start_time": "2021-05-21T17:59:27.295824",
     "status": "completed"
    },
    "tags": []
   },
   "source": [
    "#### Resultados Finais do algoritmo Decision Tree\n",
    "Fiz vários testes porém com o algoritmo Decision Tree não houve tanta diferença nos resultados, como podemos observar abaixo:\n",
    "\n",
    "    81,02% Árvore de decisão (labelencoder + onehotencoder + escalonamento)\n",
    "    81,28% Árvore de decisão (labelencoder)\n",
    "    81,02% Árvore de decisão (labelencoder + onehotencoder)\n",
    "    81,28% Árvore de decisão (labelencoder + escalonamento) "
   ]
  },
  {
   "cell_type": "markdown",
   "id": "spread-switzerland",
   "metadata": {
    "papermill": {
     "duration": 0.063595,
     "end_time": "2021-05-21T17:59:27.484814",
     "exception": false,
     "start_time": "2021-05-21T17:59:27.421219",
     "status": "completed"
    },
    "tags": []
   },
   "source": [
    "### Random Forest\n",
    "O algoritmo Random Forest cria uma floresta de um modo aleatório, criando várias árvores de decisão e as combinando,cada árvore tenta estimar uma classificação e isso é chamado como “voto”, assim, para obter uma predição com maior acurácia e mais estável."
   ]
  },
  {
   "cell_type": "code",
   "execution_count": 28,
   "id": "traditional-wildlife",
   "metadata": {
    "execution": {
     "iopub.execute_input": "2021-05-21T17:59:27.614459Z",
     "iopub.status.busy": "2021-05-21T17:59:27.613714Z",
     "iopub.status.idle": "2021-05-21T17:59:27.617364Z",
     "shell.execute_reply": "2021-05-21T17:59:27.618010Z",
     "shell.execute_reply.started": "2021-05-21T17:55:14.632674Z"
    },
    "papermill": {
     "duration": 0.071246,
     "end_time": "2021-05-21T17:59:27.618207",
     "exception": false,
     "start_time": "2021-05-21T17:59:27.546961",
     "status": "completed"
    },
    "tags": []
   },
   "outputs": [],
   "source": [
    "rf = RandomForestClassifier(n_estimators=40, criterion= 'entropy', random_state= 0)"
   ]
  },
  {
   "cell_type": "code",
   "execution_count": 29,
   "id": "wrapped-agenda",
   "metadata": {
    "execution": {
     "iopub.execute_input": "2021-05-21T17:59:27.752357Z",
     "iopub.status.busy": "2021-05-21T17:59:27.751618Z",
     "iopub.status.idle": "2021-05-21T17:59:29.204804Z",
     "shell.execute_reply": "2021-05-21T17:59:29.205336Z",
     "shell.execute_reply.started": "2021-05-21T17:55:14.638703Z"
    },
    "papermill": {
     "duration": 1.523105,
     "end_time": "2021-05-21T17:59:29.205587",
     "exception": false,
     "start_time": "2021-05-21T17:59:27.682482",
     "status": "completed"
    },
    "tags": []
   },
   "outputs": [
    {
     "name": "stderr",
     "output_type": "stream",
     "text": [
      "/opt/conda/lib/python3.7/site-packages/ipykernel_launcher.py:1: DataConversionWarning: A column-vector y was passed when a 1d array was expected. Please change the shape of y to (n_samples,), for example using ravel().\n",
      "  \"\"\"Entry point for launching an IPython kernel.\n"
     ]
    },
    {
     "data": {
      "text/plain": [
       "RandomForestClassifier(criterion='entropy', n_estimators=40, random_state=0)"
      ]
     },
     "execution_count": 29,
     "metadata": {},
     "output_type": "execute_result"
    }
   ],
   "source": [
    "rf.fit(X_train, y_train)"
   ]
  },
  {
   "cell_type": "code",
   "execution_count": 30,
   "id": "liked-canyon",
   "metadata": {
    "execution": {
     "iopub.execute_input": "2021-05-21T17:59:29.356882Z",
     "iopub.status.busy": "2021-05-21T17:59:29.356033Z",
     "iopub.status.idle": "2021-05-21T17:59:29.432209Z",
     "shell.execute_reply": "2021-05-21T17:59:29.432976Z",
     "shell.execute_reply.started": "2021-05-21T17:55:15.972238Z"
    },
    "papermill": {
     "duration": 0.155359,
     "end_time": "2021-05-21T17:59:29.433219",
     "exception": false,
     "start_time": "2021-05-21T17:59:29.277860",
     "status": "completed"
    },
    "tags": []
   },
   "outputs": [],
   "source": [
    "y_pred_rf = rf.predict(X_test)"
   ]
  },
  {
   "cell_type": "code",
   "execution_count": 31,
   "id": "lucky-andrews",
   "metadata": {
    "execution": {
     "iopub.execute_input": "2021-05-21T17:59:29.588974Z",
     "iopub.status.busy": "2021-05-21T17:59:29.582909Z",
     "iopub.status.idle": "2021-05-21T17:59:29.608335Z",
     "shell.execute_reply": "2021-05-21T17:59:29.607682Z",
     "shell.execute_reply.started": "2021-05-21T17:55:16.048729Z"
    },
    "papermill": {
     "duration": 0.10414,
     "end_time": "2021-05-21T17:59:29.608544",
     "exception": false,
     "start_time": "2021-05-21T17:59:29.504404",
     "status": "completed"
    },
    "scrolled": true,
    "tags": []
   },
   "outputs": [
    {
     "name": "stdout",
     "output_type": "stream",
     "text": [
      "Acurácia: 85.0%\n"
     ]
    }
   ],
   "source": [
    "# Acurácia alcançada pelo algortimo Decision Tree\n",
    "print(\"Acurácia: {}%\".format(100*round(accuracy_score(y_test, y_pred_rf), 2)))"
   ]
  },
  {
   "cell_type": "code",
   "execution_count": 32,
   "id": "photographic-sally",
   "metadata": {
    "execution": {
     "iopub.execute_input": "2021-05-21T17:59:29.762698Z",
     "iopub.status.busy": "2021-05-21T17:59:29.755906Z",
     "iopub.status.idle": "2021-05-21T17:59:30.192337Z",
     "shell.execute_reply": "2021-05-21T17:59:30.192996Z",
     "shell.execute_reply.started": "2021-05-21T17:55:16.076890Z"
    },
    "papermill": {
     "duration": 0.518609,
     "end_time": "2021-05-21T17:59:30.193218",
     "exception": false,
     "start_time": "2021-05-21T17:59:29.674609",
     "status": "completed"
    },
    "scrolled": true,
    "tags": []
   },
   "outputs": [
    {
     "name": "stdout",
     "output_type": "stream",
     "text": [
      "              precision    recall  f1-score   support\n",
      "\n",
      "       <=50K       0.88      0.94      0.91      6193\n",
      "        >50K       0.74      0.60      0.66      1948\n",
      "\n",
      "    accuracy                           0.85      8141\n",
      "   macro avg       0.81      0.77      0.79      8141\n",
      "weighted avg       0.85      0.85      0.85      8141\n",
      "\n"
     ]
    }
   ],
   "source": [
    "print(classification_report(y_test, y_pred_rf))"
   ]
  },
  {
   "cell_type": "code",
   "execution_count": 33,
   "id": "initial-nicholas",
   "metadata": {
    "execution": {
     "iopub.execute_input": "2021-05-21T17:59:30.378423Z",
     "iopub.status.busy": "2021-05-21T17:59:30.356743Z",
     "iopub.status.idle": "2021-05-21T17:59:30.390182Z",
     "shell.execute_reply": "2021-05-21T17:59:30.390713Z",
     "shell.execute_reply.started": "2021-05-21T17:55:16.483406Z"
    },
    "papermill": {
     "duration": 0.129392,
     "end_time": "2021-05-21T17:59:30.390997",
     "exception": false,
     "start_time": "2021-05-21T17:59:30.261605",
     "status": "completed"
    },
    "tags": []
   },
   "outputs": [
    {
     "data": {
      "text/plain": [
       "array([[5793,  400],\n",
       "       [ 783, 1165]])"
      ]
     },
     "execution_count": 33,
     "metadata": {},
     "output_type": "execute_result"
    }
   ],
   "source": [
    "# matriz de confusão de acertos\n",
    "confusion_matrix(y_test, y_pred_rf)"
   ]
  },
  {
   "cell_type": "markdown",
   "id": "sought-entrepreneur",
   "metadata": {
    "papermill": {
     "duration": 0.073038,
     "end_time": "2021-05-21T17:59:30.534326",
     "exception": false,
     "start_time": "2021-05-21T17:59:30.461288",
     "status": "completed"
    },
    "tags": []
   },
   "source": [
    "#### Resultados Finais do algoritmo Random Forest\n",
    "No algoritmo Random Forest como já era esperado, não houve tanta diferença, e cheguei a estes resultados:\n",
    "    \n",
    "    84.76% Random Forest (labelencoder + onehotencoder + escalonamento)\n",
    "    84.81% Random Forest (labelencoder)\n",
    "    84.89% Random Forest (labelencoder + onehotencoder)\n",
    "    84.79% Random Forest (labelencoder + escalonamento)"
   ]
  },
  {
   "cell_type": "markdown",
   "id": "physical-brunswick",
   "metadata": {
    "papermill": {
     "duration": 0.065084,
     "end_time": "2021-05-21T17:59:30.665645",
     "exception": false,
     "start_time": "2021-05-21T17:59:30.600561",
     "status": "completed"
    },
    "tags": []
   },
   "source": [
    "### kNN (Vizinhos mais próximos)\n",
    "O algoritmo KNN ou k-vizinhos mais próximos é um algoritmo bem simples de machine learning. Ele usa algum tipo de medida de similaridade para dizer em qual classe o novo dado se classifica, neste caso utilizaremos 5 vizinhos mais próximos."
   ]
  },
  {
   "cell_type": "code",
   "execution_count": 34,
   "id": "insured-dominican",
   "metadata": {
    "execution": {
     "iopub.execute_input": "2021-05-21T17:59:30.808110Z",
     "iopub.status.busy": "2021-05-21T17:59:30.806849Z",
     "iopub.status.idle": "2021-05-21T17:59:30.811642Z",
     "shell.execute_reply": "2021-05-21T17:59:30.811002Z",
     "shell.execute_reply.started": "2021-05-21T17:55:16.538643Z"
    },
    "papermill": {
     "duration": 0.080822,
     "end_time": "2021-05-21T17:59:30.811810",
     "exception": false,
     "start_time": "2021-05-21T17:59:30.730988",
     "status": "completed"
    },
    "tags": []
   },
   "outputs": [],
   "source": [
    "knn = KNeighborsClassifier(n_neighbors=5, metric = 'minkowski', p = 2)"
   ]
  },
  {
   "cell_type": "code",
   "execution_count": 35,
   "id": "hollow-development",
   "metadata": {
    "execution": {
     "iopub.execute_input": "2021-05-21T17:59:30.952405Z",
     "iopub.status.busy": "2021-05-21T17:59:30.951658Z",
     "iopub.status.idle": "2021-05-21T17:59:31.412932Z",
     "shell.execute_reply": "2021-05-21T17:59:31.412153Z",
     "shell.execute_reply.started": "2021-05-21T17:55:16.543313Z"
    },
    "papermill": {
     "duration": 0.534173,
     "end_time": "2021-05-21T17:59:31.413128",
     "exception": false,
     "start_time": "2021-05-21T17:59:30.878955",
     "status": "completed"
    },
    "tags": []
   },
   "outputs": [
    {
     "name": "stderr",
     "output_type": "stream",
     "text": [
      "/opt/conda/lib/python3.7/site-packages/sklearn/neighbors/_classification.py:179: DataConversionWarning: A column-vector y was passed when a 1d array was expected. Please change the shape of y to (n_samples,), for example using ravel().\n",
      "  return self._fit(X, y)\n"
     ]
    },
    {
     "data": {
      "text/plain": [
       "KNeighborsClassifier()"
      ]
     },
     "execution_count": 35,
     "metadata": {},
     "output_type": "execute_result"
    }
   ],
   "source": [
    "knn.fit(X_train, y_train)"
   ]
  },
  {
   "cell_type": "code",
   "execution_count": 36,
   "id": "timely-tunnel",
   "metadata": {
    "execution": {
     "iopub.execute_input": "2021-05-21T17:59:31.559504Z",
     "iopub.status.busy": "2021-05-21T17:59:31.558314Z",
     "iopub.status.idle": "2021-05-21T17:59:34.455534Z",
     "shell.execute_reply": "2021-05-21T17:59:34.454806Z",
     "shell.execute_reply.started": "2021-05-21T17:55:16.956057Z"
    },
    "papermill": {
     "duration": 2.973769,
     "end_time": "2021-05-21T17:59:34.455703",
     "exception": false,
     "start_time": "2021-05-21T17:59:31.481934",
     "status": "completed"
    },
    "tags": []
   },
   "outputs": [],
   "source": [
    "y_pred_knn = knn.predict(X_test)"
   ]
  },
  {
   "cell_type": "code",
   "execution_count": 37,
   "id": "incorporate-academy",
   "metadata": {
    "execution": {
     "iopub.execute_input": "2021-05-21T17:59:34.621050Z",
     "iopub.status.busy": "2021-05-21T17:59:34.607976Z",
     "iopub.status.idle": "2021-05-21T17:59:34.626375Z",
     "shell.execute_reply": "2021-05-21T17:59:34.625832Z",
     "shell.execute_reply.started": "2021-05-21T17:55:19.842330Z"
    },
    "papermill": {
     "duration": 0.10311,
     "end_time": "2021-05-21T17:59:34.626514",
     "exception": false,
     "start_time": "2021-05-21T17:59:34.523404",
     "status": "completed"
    },
    "scrolled": true,
    "tags": []
   },
   "outputs": [
    {
     "name": "stdout",
     "output_type": "stream",
     "text": [
      "Acurácia: 83.0%\n"
     ]
    }
   ],
   "source": [
    "# Acurácia alcançada pelo algortimo Decision Tree\n",
    "print(\"Acurácia: {}%\".format(100*round(accuracy_score(y_test, y_pred_knn), 2)))"
   ]
  },
  {
   "cell_type": "code",
   "execution_count": 38,
   "id": "downtown-stopping",
   "metadata": {
    "execution": {
     "iopub.execute_input": "2021-05-21T17:59:34.827184Z",
     "iopub.status.busy": "2021-05-21T17:59:34.774574Z",
     "iopub.status.idle": "2021-05-21T17:59:35.241210Z",
     "shell.execute_reply": "2021-05-21T17:59:35.240401Z",
     "shell.execute_reply.started": "2021-05-21T17:55:19.871254Z"
    },
    "papermill": {
     "duration": 0.549894,
     "end_time": "2021-05-21T17:59:35.241461",
     "exception": false,
     "start_time": "2021-05-21T17:59:34.691567",
     "status": "completed"
    },
    "scrolled": true,
    "tags": []
   },
   "outputs": [
    {
     "name": "stdout",
     "output_type": "stream",
     "text": [
      "              precision    recall  f1-score   support\n",
      "\n",
      "       <=50K       0.87      0.91      0.89      6193\n",
      "        >50K       0.66      0.58      0.62      1948\n",
      "\n",
      "    accuracy                           0.83      8141\n",
      "   macro avg       0.77      0.74      0.75      8141\n",
      "weighted avg       0.82      0.83      0.83      8141\n",
      "\n"
     ]
    }
   ],
   "source": [
    "print(classification_report(y_test, y_pred_knn))"
   ]
  },
  {
   "cell_type": "code",
   "execution_count": 39,
   "id": "specialized-england",
   "metadata": {
    "execution": {
     "iopub.execute_input": "2021-05-21T17:59:35.426045Z",
     "iopub.status.busy": "2021-05-21T17:59:35.392285Z",
     "iopub.status.idle": "2021-05-21T17:59:35.441630Z",
     "shell.execute_reply": "2021-05-21T17:59:35.440958Z",
     "shell.execute_reply.started": "2021-05-21T17:55:20.281793Z"
    },
    "papermill": {
     "duration": 0.132302,
     "end_time": "2021-05-21T17:59:35.441951",
     "exception": false,
     "start_time": "2021-05-21T17:59:35.309649",
     "status": "completed"
    },
    "tags": []
   },
   "outputs": [
    {
     "data": {
      "text/plain": [
       "array([[5444,  749],\n",
       "       [ 732, 1216]])"
      ]
     },
     "execution_count": 39,
     "metadata": {},
     "output_type": "execute_result"
    }
   ],
   "source": [
    "# matriz de confusão de acertos\n",
    "confusion_matrix(y_test, y_pred_dt)"
   ]
  },
  {
   "cell_type": "markdown",
   "id": "speaking-audience",
   "metadata": {
    "papermill": {
     "duration": 0.064853,
     "end_time": "2021-05-21T17:59:35.575278",
     "exception": false,
     "start_time": "2021-05-21T17:59:35.510425",
     "status": "completed"
    },
    "tags": []
   },
   "source": [
    "#### Resultados Finais do algoritmo kNN\n",
    "Aqui podemos observar que houve diferença dos resultados, com os testes feitos cheguei a estes resultados:\n",
    "    \n",
    "    82.23% kNN  (labelencoder + onehotencoder + escalonamento)\n",
    "    77.46% kNN (labelencoder)\n",
    "    77.60% kNN  (labelencoder + onehotencoder)\n",
    "    82.19% kNN (labelencoder + escalonamento)"
   ]
  },
  {
   "cell_type": "markdown",
   "id": "removed-update",
   "metadata": {
    "papermill": {
     "duration": 0.065873,
     "end_time": "2021-05-21T17:59:35.707682",
     "exception": false,
     "start_time": "2021-05-21T17:59:35.641809",
     "status": "completed"
    },
    "tags": []
   },
   "source": [
    "### Regressão Logistica\n",
    "O algoritmo de regressão logística é usada onde uma saída discreta é esperada, (ex. Prever se um usuário é um bom ou mal pagador).Normalmente, a regressão logística usa alguma função para espremer valores para um determinado intervalo."
   ]
  },
  {
   "cell_type": "code",
   "execution_count": 40,
   "id": "faced-cyprus",
   "metadata": {
    "execution": {
     "iopub.execute_input": "2021-05-21T17:59:35.847326Z",
     "iopub.status.busy": "2021-05-21T17:59:35.846642Z",
     "iopub.status.idle": "2021-05-21T17:59:35.849946Z",
     "shell.execute_reply": "2021-05-21T17:59:35.849323Z",
     "shell.execute_reply.started": "2021-05-21T17:55:20.341283Z"
    },
    "papermill": {
     "duration": 0.07454,
     "end_time": "2021-05-21T17:59:35.850084",
     "exception": false,
     "start_time": "2021-05-21T17:59:35.775544",
     "status": "completed"
    },
    "tags": []
   },
   "outputs": [],
   "source": [
    "rl = LogisticRegression(random_state=0)"
   ]
  },
  {
   "cell_type": "code",
   "execution_count": 41,
   "id": "distributed-shore",
   "metadata": {
    "execution": {
     "iopub.execute_input": "2021-05-21T17:59:35.993215Z",
     "iopub.status.busy": "2021-05-21T17:59:35.987944Z",
     "iopub.status.idle": "2021-05-21T17:59:36.047833Z",
     "shell.execute_reply": "2021-05-21T17:59:36.048647Z",
     "shell.execute_reply.started": "2021-05-21T17:55:20.347425Z"
    },
    "papermill": {
     "duration": 0.131861,
     "end_time": "2021-05-21T17:59:36.048933",
     "exception": false,
     "start_time": "2021-05-21T17:59:35.917072",
     "status": "completed"
    },
    "tags": []
   },
   "outputs": [
    {
     "name": "stderr",
     "output_type": "stream",
     "text": [
      "/opt/conda/lib/python3.7/site-packages/sklearn/utils/validation.py:63: DataConversionWarning: A column-vector y was passed when a 1d array was expected. Please change the shape of y to (n_samples, ), for example using ravel().\n",
      "  return f(*args, **kwargs)\n"
     ]
    },
    {
     "data": {
      "text/plain": [
       "LogisticRegression(random_state=0)"
      ]
     },
     "execution_count": 41,
     "metadata": {},
     "output_type": "execute_result"
    }
   ],
   "source": [
    "rl.fit(X_test, y_test)"
   ]
  },
  {
   "cell_type": "code",
   "execution_count": 42,
   "id": "virtual-ceiling",
   "metadata": {
    "execution": {
     "iopub.execute_input": "2021-05-21T17:59:36.236730Z",
     "iopub.status.busy": "2021-05-21T17:59:36.235674Z",
     "iopub.status.idle": "2021-05-21T17:59:36.241663Z",
     "shell.execute_reply": "2021-05-21T17:59:36.242559Z",
     "shell.execute_reply.started": "2021-05-21T17:55:20.433523Z"
    },
    "papermill": {
     "duration": 0.078475,
     "end_time": "2021-05-21T17:59:36.242835",
     "exception": false,
     "start_time": "2021-05-21T17:59:36.164360",
     "status": "completed"
    },
    "tags": []
   },
   "outputs": [],
   "source": [
    "y_pred_rl = rl.predict(X_test)"
   ]
  },
  {
   "cell_type": "code",
   "execution_count": 43,
   "id": "crucial-indication",
   "metadata": {
    "execution": {
     "iopub.execute_input": "2021-05-21T17:59:36.438391Z",
     "iopub.status.busy": "2021-05-21T17:59:36.437503Z",
     "iopub.status.idle": "2021-05-21T17:59:36.459266Z",
     "shell.execute_reply": "2021-05-21T17:59:36.459729Z",
     "shell.execute_reply.started": "2021-05-21T17:55:20.448617Z"
    },
    "papermill": {
     "duration": 0.097657,
     "end_time": "2021-05-21T17:59:36.459927",
     "exception": false,
     "start_time": "2021-05-21T17:59:36.362270",
     "status": "completed"
    },
    "scrolled": true,
    "tags": []
   },
   "outputs": [
    {
     "name": "stdout",
     "output_type": "stream",
     "text": [
      "Acurácia: 82.0%\n"
     ]
    }
   ],
   "source": [
    "# Acurácia alcançada pelo algortimo Decision Tree\n",
    "print(\"Acurácia: {}%\".format(100*round(accuracy_score(y_test, y_pred_rl), 2)))"
   ]
  },
  {
   "cell_type": "code",
   "execution_count": 44,
   "id": "second-miller",
   "metadata": {
    "execution": {
     "iopub.execute_input": "2021-05-21T17:59:36.624535Z",
     "iopub.status.busy": "2021-05-21T17:59:36.618251Z",
     "iopub.status.idle": "2021-05-21T17:59:37.007178Z",
     "shell.execute_reply": "2021-05-21T17:59:37.006318Z",
     "shell.execute_reply.started": "2021-05-21T17:55:20.519141Z"
    },
    "papermill": {
     "duration": 0.481214,
     "end_time": "2021-05-21T17:59:37.007416",
     "exception": false,
     "start_time": "2021-05-21T17:59:36.526202",
     "status": "completed"
    },
    "scrolled": true,
    "tags": []
   },
   "outputs": [
    {
     "name": "stdout",
     "output_type": "stream",
     "text": [
      "              precision    recall  f1-score   support\n",
      "\n",
      "       <=50K       0.84      0.95      0.89      6193\n",
      "        >50K       0.71      0.43      0.54      1948\n",
      "\n",
      "    accuracy                           0.82      8141\n",
      "   macro avg       0.78      0.69      0.71      8141\n",
      "weighted avg       0.81      0.82      0.80      8141\n",
      "\n"
     ]
    }
   ],
   "source": [
    "print(classification_report(y_test, y_pred_rl))"
   ]
  },
  {
   "cell_type": "code",
   "execution_count": 45,
   "id": "detailed-puzzle",
   "metadata": {
    "execution": {
     "iopub.execute_input": "2021-05-21T17:59:37.160723Z",
     "iopub.status.busy": "2021-05-21T17:59:37.154597Z",
     "iopub.status.idle": "2021-05-21T17:59:37.208801Z",
     "shell.execute_reply": "2021-05-21T17:59:37.208195Z",
     "shell.execute_reply.started": "2021-05-21T17:55:21.002789Z"
    },
    "papermill": {
     "duration": 0.133295,
     "end_time": "2021-05-21T17:59:37.208953",
     "exception": false,
     "start_time": "2021-05-21T17:59:37.075658",
     "status": "completed"
    },
    "tags": []
   },
   "outputs": [
    {
     "data": {
      "text/plain": [
       "array([[5853,  340],\n",
       "       [1112,  836]])"
      ]
     },
     "execution_count": 45,
     "metadata": {},
     "output_type": "execute_result"
    }
   ],
   "source": [
    "# matriz de confusão de acertos\n",
    "confusion_matrix(y_test, y_pred_rl)"
   ]
  },
  {
   "cell_type": "markdown",
   "id": "composed-graph",
   "metadata": {
    "papermill": {
     "duration": 0.066828,
     "end_time": "2021-05-21T17:59:37.343502",
     "exception": false,
     "start_time": "2021-05-21T17:59:37.276674",
     "status": "completed"
    },
    "tags": []
   },
   "source": [
    "#### Resultados Finais do algoritmo Regressão Logística\n",
    "Na regressão Logística houve diferença apenas utilizando todos os pré-processamentos, assim cheguei a estes resultados:\n",
    "\n",
    "    84.95% Regressão Log  (labelencoder + onehotencoder + escalonamento)\n",
    "    79.09% Regressão Log (labelencoder)\n",
    "    79.54% Regressão Log (labelencoder + onehotencoder)\n",
    "    81.84% Regressão Log (labelencoder + escalonamento)"
   ]
  },
  {
   "cell_type": "markdown",
   "id": "fifteen-deployment",
   "metadata": {
    "papermill": {
     "duration": 0.066627,
     "end_time": "2021-05-21T17:59:37.477020",
     "exception": false,
     "start_time": "2021-05-21T17:59:37.410393",
     "status": "completed"
    },
    "tags": []
   },
   "source": [
    "### SVM (Máquinas de vetores de suporte)\n",
    "O algoritmo de SVM separa os pontos de dados usando uma linha. Esta linha é escolhida de tal forma que será mais importante dos pontos de dados mais próximos em 2 categorias."
   ]
  },
  {
   "cell_type": "code",
   "execution_count": 46,
   "id": "governmental-convertible",
   "metadata": {
    "execution": {
     "iopub.execute_input": "2021-05-21T17:59:37.617943Z",
     "iopub.status.busy": "2021-05-21T17:59:37.617116Z",
     "iopub.status.idle": "2021-05-21T17:59:37.620632Z",
     "shell.execute_reply": "2021-05-21T17:59:37.619989Z",
     "shell.execute_reply.started": "2021-05-21T17:55:21.065437Z"
    },
    "papermill": {
     "duration": 0.077162,
     "end_time": "2021-05-21T17:59:37.620829",
     "exception": false,
     "start_time": "2021-05-21T17:59:37.543667",
     "status": "completed"
    },
    "tags": []
   },
   "outputs": [],
   "source": [
    "svm = SVC(kernel = 'linear', random_state=0)"
   ]
  },
  {
   "cell_type": "code",
   "execution_count": 47,
   "id": "shared-stewart",
   "metadata": {
    "execution": {
     "iopub.execute_input": "2021-05-21T17:59:37.783390Z",
     "iopub.status.busy": "2021-05-21T17:59:37.782409Z",
     "iopub.status.idle": "2021-05-21T17:59:59.189710Z",
     "shell.execute_reply": "2021-05-21T17:59:59.188743Z",
     "shell.execute_reply.started": "2021-05-21T17:55:21.072207Z"
    },
    "papermill": {
     "duration": 21.500633,
     "end_time": "2021-05-21T17:59:59.189919",
     "exception": false,
     "start_time": "2021-05-21T17:59:37.689286",
     "status": "completed"
    },
    "tags": []
   },
   "outputs": [
    {
     "name": "stderr",
     "output_type": "stream",
     "text": [
      "/opt/conda/lib/python3.7/site-packages/sklearn/utils/validation.py:63: DataConversionWarning: A column-vector y was passed when a 1d array was expected. Please change the shape of y to (n_samples, ), for example using ravel().\n",
      "  return f(*args, **kwargs)\n"
     ]
    },
    {
     "data": {
      "text/plain": [
       "SVC(kernel='linear', random_state=0)"
      ]
     },
     "execution_count": 47,
     "metadata": {},
     "output_type": "execute_result"
    }
   ],
   "source": [
    "svm.fit(X_train, y_train)"
   ]
  },
  {
   "cell_type": "code",
   "execution_count": 48,
   "id": "experimental-portfolio",
   "metadata": {
    "execution": {
     "iopub.execute_input": "2021-05-21T17:59:59.334341Z",
     "iopub.status.busy": "2021-05-21T17:59:59.333647Z",
     "iopub.status.idle": "2021-05-21T18:00:01.615496Z",
     "shell.execute_reply": "2021-05-21T18:00:01.616919Z",
     "shell.execute_reply.started": "2021-05-21T17:55:43.696997Z"
    },
    "papermill": {
     "duration": 2.357974,
     "end_time": "2021-05-21T18:00:01.617271",
     "exception": false,
     "start_time": "2021-05-21T17:59:59.259297",
     "status": "completed"
    },
    "tags": []
   },
   "outputs": [],
   "source": [
    "y_pred_svm = svm.predict(X_test)"
   ]
  },
  {
   "cell_type": "code",
   "execution_count": 49,
   "id": "prompt-words",
   "metadata": {
    "execution": {
     "iopub.execute_input": "2021-05-21T18:00:01.820545Z",
     "iopub.status.busy": "2021-05-21T18:00:01.819569Z",
     "iopub.status.idle": "2021-05-21T18:00:01.838189Z",
     "shell.execute_reply": "2021-05-21T18:00:01.839404Z",
     "shell.execute_reply.started": "2021-05-21T17:55:45.916426Z"
    },
    "papermill": {
     "duration": 0.132017,
     "end_time": "2021-05-21T18:00:01.839731",
     "exception": false,
     "start_time": "2021-05-21T18:00:01.707714",
     "status": "completed"
    },
    "scrolled": true,
    "tags": []
   },
   "outputs": [
    {
     "name": "stdout",
     "output_type": "stream",
     "text": [
      "Acurácia: 82.0%\n"
     ]
    }
   ],
   "source": [
    "# Acurácia alcançada pelo algortimo SVM\n",
    "print(\"Acurácia: {}%\".format(100*round(accuracy_score(y_test, y_pred_svm), 2)))"
   ]
  },
  {
   "cell_type": "code",
   "execution_count": 50,
   "id": "experimental-knight",
   "metadata": {
    "execution": {
     "iopub.execute_input": "2021-05-21T18:00:02.005003Z",
     "iopub.status.busy": "2021-05-21T18:00:02.004044Z",
     "iopub.status.idle": "2021-05-21T18:00:02.477612Z",
     "shell.execute_reply": "2021-05-21T18:00:02.478264Z",
     "shell.execute_reply.started": "2021-05-21T17:55:45.947161Z"
    },
    "papermill": {
     "duration": 0.561904,
     "end_time": "2021-05-21T18:00:02.478515",
     "exception": false,
     "start_time": "2021-05-21T18:00:01.916611",
     "status": "completed"
    },
    "scrolled": true,
    "tags": []
   },
   "outputs": [
    {
     "name": "stdout",
     "output_type": "stream",
     "text": [
      "              precision    recall  f1-score   support\n",
      "\n",
      "       <=50K       0.82      0.97      0.89      6193\n",
      "        >50K       0.80      0.31      0.45      1948\n",
      "\n",
      "    accuracy                           0.82      8141\n",
      "   macro avg       0.81      0.64      0.67      8141\n",
      "weighted avg       0.81      0.82      0.78      8141\n",
      "\n"
     ]
    }
   ],
   "source": [
    "print(classification_report(y_test, y_pred_svm))"
   ]
  },
  {
   "cell_type": "code",
   "execution_count": 51,
   "id": "juvenile-division",
   "metadata": {
    "execution": {
     "iopub.execute_input": "2021-05-21T18:00:02.658727Z",
     "iopub.status.busy": "2021-05-21T18:00:02.657908Z",
     "iopub.status.idle": "2021-05-21T18:00:02.705528Z",
     "shell.execute_reply": "2021-05-21T18:00:02.706067Z",
     "shell.execute_reply.started": "2021-05-21T17:55:46.345837Z"
    },
    "papermill": {
     "duration": 0.14509,
     "end_time": "2021-05-21T18:00:02.706300",
     "exception": false,
     "start_time": "2021-05-21T18:00:02.561210",
     "status": "completed"
    },
    "tags": []
   },
   "outputs": [
    {
     "data": {
      "text/plain": [
       "array([[6038,  155],\n",
       "       [1341,  607]])"
      ]
     },
     "execution_count": 51,
     "metadata": {},
     "output_type": "execute_result"
    }
   ],
   "source": [
    "# matriz de confusão de acertos\n",
    "confusion_matrix(y_test, y_pred_svm)"
   ]
  },
  {
   "cell_type": "markdown",
   "id": "present-coalition",
   "metadata": {
    "papermill": {
     "duration": 0.0788,
     "end_time": "2021-05-21T18:00:02.867165",
     "exception": false,
     "start_time": "2021-05-21T18:00:02.788365",
     "status": "completed"
    },
    "tags": []
   },
   "source": [
    "#### Resultados Finais do algoritmo SVM\n",
    "Tive que fazer vários testes cada um com a transformação diferente, e cheguei a estes resultados:\n",
    "\n",
    "     0.8507% SVM(labelencoder + onehotencoder + escalonamento)\n",
    "     0.8507% SVM (labelencoder + escalonamento)\n",
    "     \n",
    "     ? SVM (labelencoder) - Muito lento\n",
    "     ? SVM (labelencoder + onehotencoder) - Muito lento"
   ]
  },
  {
   "cell_type": "markdown",
   "id": "hazardous-tumor",
   "metadata": {
    "papermill": {
     "duration": 0.080496,
     "end_time": "2021-05-21T18:00:03.029539",
     "exception": false,
     "start_time": "2021-05-21T18:00:02.949043",
     "status": "completed"
    },
    "tags": []
   },
   "source": [
    "### Redes Neurais\n",
    "O objetivo do algoritmo de Redes neurais é imitar o sistema nervoso de humanos no processo de aprendizagem, ela é inspirada nas redes neurais biológicas"
   ]
  },
  {
   "cell_type": "markdown",
   "id": "secure-beads",
   "metadata": {
    "papermill": {
     "duration": 0.075914,
     "end_time": "2021-05-21T18:00:03.186241",
     "exception": false,
     "start_time": "2021-05-21T18:00:03.110327",
     "status": "completed"
    },
    "tags": []
   },
   "source": [
    "Redes Neurais com a biblioteca ``sklearn``"
   ]
  },
  {
   "cell_type": "code",
   "execution_count": 52,
   "id": "neutral-treatment",
   "metadata": {
    "execution": {
     "iopub.execute_input": "2021-05-21T18:00:03.338388Z",
     "iopub.status.busy": "2021-05-21T18:00:03.337724Z",
     "iopub.status.idle": "2021-05-21T18:00:03.342418Z",
     "shell.execute_reply": "2021-05-21T18:00:03.342975Z",
     "shell.execute_reply.started": "2021-05-21T17:55:46.405032Z"
    },
    "papermill": {
     "duration": 0.082174,
     "end_time": "2021-05-21T18:00:03.343180",
     "exception": false,
     "start_time": "2021-05-21T18:00:03.261006",
     "status": "completed"
    },
    "tags": []
   },
   "outputs": [],
   "source": [
    "rn_sk = MLPClassifier(verbose = True, max_iter= 1000, tol = 0.000010)"
   ]
  },
  {
   "cell_type": "code",
   "execution_count": 53,
   "id": "related-giving",
   "metadata": {
    "execution": {
     "iopub.execute_input": "2021-05-21T18:00:03.488818Z",
     "iopub.status.busy": "2021-05-21T18:00:03.488131Z",
     "iopub.status.idle": "2021-05-21T18:01:05.734717Z",
     "shell.execute_reply": "2021-05-21T18:01:05.733532Z",
     "shell.execute_reply.started": "2021-05-21T17:55:46.411392Z"
    },
    "papermill": {
     "duration": 62.32082,
     "end_time": "2021-05-21T18:01:05.735121",
     "exception": false,
     "start_time": "2021-05-21T18:00:03.414301",
     "status": "completed"
    },
    "scrolled": true,
    "tags": []
   },
   "outputs": [
    {
     "name": "stderr",
     "output_type": "stream",
     "text": [
      "/opt/conda/lib/python3.7/site-packages/sklearn/utils/validation.py:63: DataConversionWarning: A column-vector y was passed when a 1d array was expected. Please change the shape of y to (n_samples, ), for example using ravel().\n",
      "  return f(*args, **kwargs)\n"
     ]
    },
    {
     "name": "stdout",
     "output_type": "stream",
     "text": [
      "Iteration 1, loss = 0.45981313\n",
      "Iteration 2, loss = 0.36776139\n",
      "Iteration 3, loss = 0.34318264\n",
      "Iteration 4, loss = 0.33091068\n",
      "Iteration 5, loss = 0.32585110\n",
      "Iteration 6, loss = 0.32346737\n",
      "Iteration 7, loss = 0.32177964\n",
      "Iteration 8, loss = 0.32099361\n",
      "Iteration 9, loss = 0.32001429\n",
      "Iteration 10, loss = 0.31908879\n",
      "Iteration 11, loss = 0.31851921\n",
      "Iteration 12, loss = 0.31840379\n",
      "Iteration 13, loss = 0.31769381\n",
      "Iteration 14, loss = 0.31711734\n",
      "Iteration 15, loss = 0.31659533\n",
      "Iteration 16, loss = 0.31620241\n",
      "Iteration 17, loss = 0.31579014\n",
      "Iteration 18, loss = 0.31531808\n",
      "Iteration 19, loss = 0.31576069\n",
      "Iteration 20, loss = 0.31515326\n",
      "Iteration 21, loss = 0.31408817\n",
      "Iteration 22, loss = 0.31379924\n",
      "Iteration 23, loss = 0.31352223\n",
      "Iteration 24, loss = 0.31372689\n",
      "Iteration 25, loss = 0.31274330\n",
      "Iteration 26, loss = 0.31279652\n",
      "Iteration 27, loss = 0.31211817\n",
      "Iteration 28, loss = 0.31194263\n",
      "Iteration 29, loss = 0.31155954\n",
      "Iteration 30, loss = 0.31167439\n",
      "Iteration 31, loss = 0.31105270\n",
      "Iteration 32, loss = 0.31085778\n",
      "Iteration 33, loss = 0.31038573\n",
      "Iteration 34, loss = 0.31022536\n",
      "Iteration 35, loss = 0.30976978\n",
      "Iteration 36, loss = 0.30936897\n",
      "Iteration 37, loss = 0.30915719\n",
      "Iteration 38, loss = 0.30874580\n",
      "Iteration 39, loss = 0.30859412\n",
      "Iteration 40, loss = 0.30803529\n",
      "Iteration 41, loss = 0.30781009\n",
      "Iteration 42, loss = 0.30771581\n",
      "Iteration 43, loss = 0.30714203\n",
      "Iteration 44, loss = 0.30689732\n",
      "Iteration 45, loss = 0.30667175\n",
      "Iteration 46, loss = 0.30640189\n",
      "Iteration 47, loss = 0.30620409\n",
      "Iteration 48, loss = 0.30628903\n",
      "Iteration 49, loss = 0.30553034\n",
      "Iteration 50, loss = 0.30531099\n",
      "Iteration 51, loss = 0.30516769\n",
      "Iteration 52, loss = 0.30451652\n",
      "Iteration 53, loss = 0.30497146\n",
      "Iteration 54, loss = 0.30499549\n",
      "Iteration 55, loss = 0.30423034\n",
      "Iteration 56, loss = 0.30416883\n",
      "Iteration 57, loss = 0.30342306\n",
      "Iteration 58, loss = 0.30355219\n",
      "Iteration 59, loss = 0.30325483\n",
      "Iteration 60, loss = 0.30276259\n",
      "Iteration 61, loss = 0.30289399\n",
      "Iteration 62, loss = 0.30254885\n",
      "Iteration 63, loss = 0.30242635\n",
      "Iteration 64, loss = 0.30222594\n",
      "Iteration 65, loss = 0.30240839\n",
      "Iteration 66, loss = 0.30182365\n",
      "Iteration 67, loss = 0.30159582\n",
      "Iteration 68, loss = 0.30123601\n",
      "Iteration 69, loss = 0.30141904\n",
      "Iteration 70, loss = 0.30114179\n",
      "Iteration 71, loss = 0.30106555\n",
      "Iteration 72, loss = 0.30067971\n",
      "Iteration 73, loss = 0.30047565\n",
      "Iteration 74, loss = 0.30061449\n",
      "Iteration 75, loss = 0.29980996\n",
      "Iteration 76, loss = 0.30007544\n",
      "Iteration 77, loss = 0.29955373\n",
      "Iteration 78, loss = 0.29980011\n",
      "Iteration 79, loss = 0.29902457\n",
      "Iteration 80, loss = 0.29916270\n",
      "Iteration 81, loss = 0.29931725\n",
      "Iteration 82, loss = 0.29887208\n",
      "Iteration 83, loss = 0.29846994\n",
      "Iteration 84, loss = 0.29832740\n",
      "Iteration 85, loss = 0.29837894\n",
      "Iteration 86, loss = 0.29831815\n",
      "Iteration 87, loss = 0.29824559\n",
      "Iteration 88, loss = 0.29789708\n",
      "Iteration 89, loss = 0.29813751\n",
      "Iteration 90, loss = 0.29722736\n",
      "Iteration 91, loss = 0.29745160\n",
      "Iteration 92, loss = 0.29662447\n",
      "Iteration 93, loss = 0.29706724\n",
      "Iteration 94, loss = 0.29712041\n",
      "Iteration 95, loss = 0.29613527\n",
      "Iteration 96, loss = 0.29625136\n",
      "Iteration 97, loss = 0.29642606\n",
      "Iteration 98, loss = 0.29563472\n",
      "Iteration 99, loss = 0.29625824\n",
      "Iteration 100, loss = 0.29646787\n",
      "Iteration 101, loss = 0.29526764\n",
      "Iteration 102, loss = 0.29518842\n",
      "Iteration 103, loss = 0.29555523\n",
      "Iteration 104, loss = 0.29498117\n",
      "Iteration 105, loss = 0.29499750\n",
      "Iteration 106, loss = 0.29481437\n",
      "Iteration 107, loss = 0.29477814\n",
      "Iteration 108, loss = 0.29466865\n",
      "Iteration 109, loss = 0.29455360\n",
      "Iteration 110, loss = 0.29418662\n",
      "Iteration 111, loss = 0.29465453\n",
      "Iteration 112, loss = 0.29420700\n",
      "Iteration 113, loss = 0.29404019\n",
      "Iteration 114, loss = 0.29336791\n",
      "Iteration 115, loss = 0.29351947\n",
      "Iteration 116, loss = 0.29305573\n",
      "Iteration 117, loss = 0.29337760\n",
      "Iteration 118, loss = 0.29303917\n",
      "Iteration 119, loss = 0.29350131\n",
      "Iteration 120, loss = 0.29258127\n",
      "Iteration 121, loss = 0.29268820\n",
      "Iteration 122, loss = 0.29267591\n",
      "Iteration 123, loss = 0.29243552\n",
      "Iteration 124, loss = 0.29274318\n",
      "Iteration 125, loss = 0.29197720\n",
      "Iteration 126, loss = 0.29181955\n",
      "Iteration 127, loss = 0.29253376\n",
      "Iteration 128, loss = 0.29242048\n",
      "Iteration 129, loss = 0.29164344\n",
      "Iteration 130, loss = 0.29189673\n",
      "Iteration 131, loss = 0.29231138\n",
      "Iteration 132, loss = 0.29158004\n",
      "Iteration 133, loss = 0.29110798\n",
      "Iteration 134, loss = 0.29122793\n",
      "Iteration 135, loss = 0.29138766\n",
      "Iteration 136, loss = 0.29089956\n",
      "Iteration 137, loss = 0.29080738\n",
      "Iteration 138, loss = 0.29096540\n",
      "Iteration 139, loss = 0.29075855\n",
      "Iteration 140, loss = 0.29091775\n",
      "Iteration 141, loss = 0.29037768\n",
      "Iteration 142, loss = 0.29026507\n",
      "Iteration 143, loss = 0.29005330\n",
      "Iteration 144, loss = 0.28961229\n",
      "Iteration 145, loss = 0.28936703\n",
      "Iteration 146, loss = 0.28950726\n",
      "Iteration 147, loss = 0.28968111\n",
      "Iteration 148, loss = 0.28964775\n",
      "Iteration 149, loss = 0.28914911\n",
      "Iteration 150, loss = 0.28928075\n",
      "Iteration 151, loss = 0.28951196\n",
      "Iteration 152, loss = 0.28833389\n",
      "Iteration 153, loss = 0.28886263\n",
      "Iteration 154, loss = 0.28901595\n",
      "Iteration 155, loss = 0.28928555\n",
      "Iteration 156, loss = 0.28858514\n",
      "Iteration 157, loss = 0.28841504\n",
      "Iteration 158, loss = 0.28839147\n",
      "Iteration 159, loss = 0.28859684\n",
      "Iteration 160, loss = 0.28865898\n",
      "Iteration 161, loss = 0.28841844\n",
      "Iteration 162, loss = 0.28819634\n",
      "Iteration 163, loss = 0.28816391\n",
      "Iteration 164, loss = 0.28821594\n",
      "Iteration 165, loss = 0.28728888\n",
      "Iteration 166, loss = 0.28804874\n",
      "Iteration 167, loss = 0.28763801\n",
      "Iteration 168, loss = 0.28711343\n",
      "Iteration 169, loss = 0.28790268\n",
      "Iteration 170, loss = 0.28768122\n",
      "Iteration 171, loss = 0.28694767\n",
      "Iteration 172, loss = 0.28708314\n",
      "Iteration 173, loss = 0.28715900\n",
      "Iteration 174, loss = 0.28700344\n",
      "Iteration 175, loss = 0.28644066\n",
      "Iteration 176, loss = 0.28700465\n",
      "Iteration 177, loss = 0.28670331\n",
      "Iteration 178, loss = 0.28706616\n",
      "Iteration 179, loss = 0.28681446\n",
      "Iteration 180, loss = 0.28700771\n",
      "Iteration 181, loss = 0.28684178\n",
      "Iteration 182, loss = 0.28628128\n",
      "Iteration 183, loss = 0.28643224\n",
      "Iteration 184, loss = 0.28634611\n",
      "Iteration 185, loss = 0.28586348\n",
      "Iteration 186, loss = 0.28599944\n",
      "Iteration 187, loss = 0.28626193\n",
      "Iteration 188, loss = 0.28562440\n",
      "Iteration 189, loss = 0.28619865\n",
      "Iteration 190, loss = 0.28600219\n",
      "Iteration 191, loss = 0.28529213\n",
      "Iteration 192, loss = 0.28524228\n",
      "Iteration 193, loss = 0.28599250\n",
      "Iteration 194, loss = 0.28576044\n",
      "Iteration 195, loss = 0.28597589\n",
      "Iteration 196, loss = 0.28516404\n",
      "Iteration 197, loss = 0.28598090\n",
      "Iteration 198, loss = 0.28532060\n",
      "Iteration 199, loss = 0.28476267\n",
      "Iteration 200, loss = 0.28483722\n",
      "Iteration 201, loss = 0.28542981\n",
      "Iteration 202, loss = 0.28461531\n",
      "Iteration 203, loss = 0.28506957\n",
      "Iteration 204, loss = 0.28482469\n",
      "Iteration 205, loss = 0.28499370\n",
      "Iteration 206, loss = 0.28400426\n",
      "Iteration 207, loss = 0.28441608\n",
      "Iteration 208, loss = 0.28474349\n",
      "Iteration 209, loss = 0.28466024\n",
      "Iteration 210, loss = 0.28482293\n",
      "Iteration 211, loss = 0.28428151\n",
      "Iteration 212, loss = 0.28382853\n",
      "Iteration 213, loss = 0.28401050\n",
      "Iteration 214, loss = 0.28415040\n",
      "Iteration 215, loss = 0.28402047\n",
      "Iteration 216, loss = 0.28356920\n",
      "Iteration 217, loss = 0.28371158\n",
      "Iteration 218, loss = 0.28413388\n",
      "Iteration 219, loss = 0.28323882\n",
      "Iteration 220, loss = 0.28433582\n",
      "Iteration 221, loss = 0.28374605\n",
      "Iteration 222, loss = 0.28364056\n",
      "Iteration 223, loss = 0.28419701\n",
      "Iteration 224, loss = 0.28411774\n",
      "Iteration 225, loss = 0.28380971\n",
      "Iteration 226, loss = 0.28345180\n",
      "Iteration 227, loss = 0.28353906\n",
      "Iteration 228, loss = 0.28351205\n",
      "Iteration 229, loss = 0.28335290\n",
      "Iteration 230, loss = 0.28320529\n",
      "Iteration 231, loss = 0.28278449\n",
      "Iteration 232, loss = 0.28323392\n",
      "Iteration 233, loss = 0.28439451\n",
      "Iteration 234, loss = 0.28367402\n",
      "Iteration 235, loss = 0.28229807\n",
      "Iteration 236, loss = 0.28311388\n",
      "Iteration 237, loss = 0.28321477\n",
      "Iteration 238, loss = 0.28259376\n",
      "Iteration 239, loss = 0.28265745\n",
      "Iteration 240, loss = 0.28306112\n",
      "Iteration 241, loss = 0.28312500\n",
      "Iteration 242, loss = 0.28325113\n",
      "Iteration 243, loss = 0.28211992\n",
      "Iteration 244, loss = 0.28233681\n",
      "Iteration 245, loss = 0.28174179\n",
      "Iteration 246, loss = 0.28218630\n",
      "Iteration 247, loss = 0.28247580\n",
      "Iteration 248, loss = 0.28238116\n",
      "Iteration 249, loss = 0.28209545\n",
      "Iteration 250, loss = 0.28118832\n",
      "Iteration 251, loss = 0.28231910\n",
      "Iteration 252, loss = 0.28279105\n",
      "Iteration 253, loss = 0.28183560\n",
      "Iteration 254, loss = 0.28175733\n",
      "Iteration 255, loss = 0.28152475\n",
      "Iteration 256, loss = 0.28206716\n",
      "Iteration 257, loss = 0.28164556\n",
      "Iteration 258, loss = 0.28248933\n",
      "Iteration 259, loss = 0.28144814\n",
      "Iteration 260, loss = 0.28217170\n",
      "Iteration 261, loss = 0.28117957\n",
      "Training loss did not improve more than tol=0.000010 for 10 consecutive epochs. Stopping.\n"
     ]
    },
    {
     "data": {
      "text/plain": [
       "MLPClassifier(max_iter=1000, tol=1e-05, verbose=True)"
      ]
     },
     "execution_count": 53,
     "metadata": {},
     "output_type": "execute_result"
    }
   ],
   "source": [
    "rn_sk.fit(X_train, y_train)"
   ]
  },
  {
   "cell_type": "code",
   "execution_count": 54,
   "id": "international-means",
   "metadata": {
    "execution": {
     "iopub.execute_input": "2021-05-21T18:01:06.085482Z",
     "iopub.status.busy": "2021-05-21T18:01:06.084267Z",
     "iopub.status.idle": "2021-05-21T18:01:06.105338Z",
     "shell.execute_reply": "2021-05-21T18:01:06.104420Z",
     "shell.execute_reply.started": "2021-05-21T17:57:11.889327Z"
    },
    "papermill": {
     "duration": 0.176066,
     "end_time": "2021-05-21T18:01:06.105568",
     "exception": false,
     "start_time": "2021-05-21T18:01:05.929502",
     "status": "completed"
    },
    "tags": []
   },
   "outputs": [],
   "source": [
    "y_pred_rn_sk = rn_sk.predict(X_test)"
   ]
  },
  {
   "cell_type": "code",
   "execution_count": 55,
   "id": "decent-jungle",
   "metadata": {
    "execution": {
     "iopub.execute_input": "2021-05-21T18:01:06.462540Z",
     "iopub.status.busy": "2021-05-21T18:01:06.461538Z",
     "iopub.status.idle": "2021-05-21T18:01:06.485232Z",
     "shell.execute_reply": "2021-05-21T18:01:06.484408Z",
     "shell.execute_reply.started": "2021-05-21T17:57:11.917947Z"
    },
    "papermill": {
     "duration": 0.17985,
     "end_time": "2021-05-21T18:01:06.485404",
     "exception": false,
     "start_time": "2021-05-21T18:01:06.305554",
     "status": "completed"
    },
    "scrolled": true,
    "tags": []
   },
   "outputs": [
    {
     "name": "stdout",
     "output_type": "stream",
     "text": [
      "Acurácia: 85.0%\n"
     ]
    }
   ],
   "source": [
    "# Acurácia alcançada pelo algortimo Decision Tree\n",
    "print(\"Acurácia: {}%\".format(100*round(accuracy_score(y_test, y_pred_rn_sk), 2)))"
   ]
  },
  {
   "cell_type": "code",
   "execution_count": 56,
   "id": "biological-debate",
   "metadata": {
    "execution": {
     "iopub.execute_input": "2021-05-21T18:01:06.809473Z",
     "iopub.status.busy": "2021-05-21T18:01:06.808793Z",
     "iopub.status.idle": "2021-05-21T18:01:07.174226Z",
     "shell.execute_reply": "2021-05-21T18:01:07.172879Z",
     "shell.execute_reply.started": "2021-05-21T17:57:11.976407Z"
    },
    "papermill": {
     "duration": 0.530779,
     "end_time": "2021-05-21T18:01:07.174746",
     "exception": false,
     "start_time": "2021-05-21T18:01:06.643967",
     "status": "completed"
    },
    "scrolled": true,
    "tags": []
   },
   "outputs": [
    {
     "name": "stdout",
     "output_type": "stream",
     "text": [
      "              precision    recall  f1-score   support\n",
      "\n",
      "       <=50K       0.88      0.92      0.90      6193\n",
      "        >50K       0.70      0.62      0.66      1948\n",
      "\n",
      "    accuracy                           0.85      8141\n",
      "   macro avg       0.79      0.77      0.78      8141\n",
      "weighted avg       0.84      0.85      0.84      8141\n",
      "\n"
     ]
    }
   ],
   "source": [
    "print(classification_report(y_test, y_pred_rn_sk))"
   ]
  },
  {
   "cell_type": "code",
   "execution_count": 57,
   "id": "wireless-parent",
   "metadata": {
    "execution": {
     "iopub.execute_input": "2021-05-21T18:01:07.518255Z",
     "iopub.status.busy": "2021-05-21T18:01:07.517449Z",
     "iopub.status.idle": "2021-05-21T18:01:07.562550Z",
     "shell.execute_reply": "2021-05-21T18:01:07.561745Z",
     "shell.execute_reply.started": "2021-05-21T17:57:12.334370Z"
    },
    "papermill": {
     "duration": 0.225609,
     "end_time": "2021-05-21T18:01:07.562747",
     "exception": false,
     "start_time": "2021-05-21T18:01:07.337138",
     "status": "completed"
    },
    "tags": []
   },
   "outputs": [
    {
     "data": {
      "text/plain": [
       "array([[5680,  513],\n",
       "       [ 747, 1201]])"
      ]
     },
     "execution_count": 57,
     "metadata": {},
     "output_type": "execute_result"
    }
   ],
   "source": [
    "# matriz de confusão de acertos\n",
    "confusion_matrix(y_test, y_pred_rn_sk)"
   ]
  },
  {
   "cell_type": "markdown",
   "id": "excess-priest",
   "metadata": {
    "papermill": {
     "duration": 0.153372,
     "end_time": "2021-05-21T18:01:07.870780",
     "exception": false,
     "start_time": "2021-05-21T18:01:07.717408",
     "status": "completed"
    },
    "tags": []
   },
   "source": [
    "#### Resultados Finais do algoritmo Redes Neurais com sklearn\n",
    "Desta maneira podemos observar que não fazer o escalonamento e o onehotencoder nas Redes Neurais pode ter uma diferença grande, com os testes cheguei a estes resultados:\n",
    "\n",
    "    83.5% Neural Networks(labelencoder + onehotencoder + escalonamento)\n",
    "    84.8% Neural Networks (labelencoder + escalonamento)\n",
    "    \n",
    "    24.4% Neural Networks (labelencoder) - Muito lento\n",
    "    78.8% Neural Networks (labelencoder + onehotencoder) - Muito lento"
   ]
  }
 ],
 "metadata": {
  "kernelspec": {
   "display_name": "Python 3",
   "language": "python",
   "name": "python3"
  },
  "language_info": {
   "codemirror_mode": {
    "name": "ipython",
    "version": 3
   },
   "file_extension": ".py",
   "mimetype": "text/x-python",
   "name": "python",
   "nbconvert_exporter": "python",
   "pygments_lexer": "ipython3",
   "version": "3.7.9"
  },
  "papermill": {
   "default_parameters": {},
   "duration": 124.886363,
   "end_time": "2021-05-21T18:01:09.433719",
   "environment_variables": {},
   "exception": null,
   "input_path": "__notebook__.ipynb",
   "output_path": "__notebook__.ipynb",
   "parameters": {},
   "start_time": "2021-05-21T17:59:04.547356",
   "version": "2.3.2"
  }
 },
 "nbformat": 4,
 "nbformat_minor": 5
}
